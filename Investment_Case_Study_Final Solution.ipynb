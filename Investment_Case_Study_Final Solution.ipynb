{
 "cells": [
  {
   "cell_type": "code",
   "execution_count": 1,
   "metadata": {},
   "outputs": [],
   "source": [
    "# Supress Warnings\n",
    "\n",
    "import warnings\n",
    "warnings.filterwarnings('ignore')"
   ]
  },
  {
   "cell_type": "code",
   "execution_count": 2,
   "metadata": {},
   "outputs": [],
   "source": [
    "# Import the numpy and pandas packages\n",
    "\n",
    "import numpy as np\n",
    "import pandas as pd"
   ]
  },
  {
   "cell_type": "code",
   "execution_count": 3,
   "metadata": {},
   "outputs": [],
   "source": [
    "## Checkpoints - Part 1\n",
    "#Checkpoint 1: Data Cleaning 1\n",
    "#Load the companies and rounds data (provided on the previous page) into two data frames \n",
    "#and name them companies and rounds2 respectively.\n",
    "\n",
    "companies = pd.read_csv(\"../bhassrin/companies.txt\", delimiter=\"\\t\", encoding='iso-8859-1')\n",
    "#companies\n",
    "companies.shape\n",
    "rounds2 = pd.read_csv(\"../bhassrin/rounds2.csv\", encoding='iso-8859-1')\n",
    "\n",
    "#round\n",
    "rounds2.shape\n",
    "companies\n",
    "rounds2\n",
    "\n",
    "# Cleaning the special characters in company_permalink column of rounds2 DataFrame\n",
    "\n",
    "# Check whether these particular field has special characters or not as mentioned in assignment.\n",
    "# similarly check for few other columns using integer index using iloc functionality.\n",
    "\n",
    "rounds2['company_permalink'].iloc[29597]\n",
    "rounds2['company_permalink'].iloc[29597]\n",
    "rounds2['company_permalink'].iloc[31863]\n",
    "rounds2['company_permalink'].iloc[45176]\n",
    "rounds2['company_permalink'].iloc[58473]\n",
    "rounds2['company_permalink'].iloc[101036]\n",
    "rounds2['company_permalink'].iloc[109969]\n",
    "rounds2['company_permalink'].iloc[113839]\n",
    "\n",
    "#Now remove the special characters for rounds2 and comapanies DataFrames.\n",
    "\n",
    "rounds2['company_permalink'] = rounds2['company_permalink'].apply(lambda x: x.encode('utf-8').decode('ascii', 'ignore'))\n",
    "\n",
    "companies['permalink'] = companies['permalink'].apply(lambda x: x.encode('utf-8').decode('ascii', 'ignore'))\n",
    "companies['name'] = companies['name'].apply(lambda x: str(x).encode('utf-8').decode('ascii', 'ignore'))\n",
    "\n",
    "#Check whether the special character is removed or not using integer indexes again.\n",
    "\n",
    "#Now convert unique ids present in both the dataframes to lower case.\n",
    "\n",
    "rounds2.company_permalink = rounds2.company_permalink.astype(str).str.lower()\n",
    "companies.permalink = companies.permalink.astype(str).str.lower()\n",
    "\n",
    "\n",
    "rounds2 = rounds2.rename(columns={'company_permalink': 'permalink'})\n"
   ]
  },
  {
   "cell_type": "code",
   "execution_count": 4,
   "metadata": {},
   "outputs": [
    {
     "data": {
      "text/plain": [
       "0"
      ]
     },
     "execution_count": 4,
     "metadata": {},
     "output_type": "execute_result"
    }
   ],
   "source": [
    "\n",
    "#Table 1.1: Understand the Data Set \n",
    "\n",
    "#How many unique companies are present in rounds2?\n",
    "\n",
    "#len(rounds2['company_permalink'].tolist()) #114949\n",
    "#len(companies['permalink'].tolist()) #66368\n",
    "#\n",
    "len(rounds2['permalink'].unique().tolist())\n",
    "#How many unique companies are present in the companies file?\n",
    "len(companies['permalink'].unique().tolist())\n",
    "#Are there any companies in the rounds2 file which are not  present in companies ? Answer Y/N.\n",
    "rnd = set(rounds2['permalink'])\n",
    "rnd\n",
    "comp = set(companies['permalink'])\n",
    "comp\n",
    "len(rnd.intersection(comp))\n",
    "len(rnd.difference(comp))"
   ]
  },
  {
   "cell_type": "code",
   "execution_count": 6,
   "metadata": {},
   "outputs": [
    {
     "data": {
      "text/plain": [
       "(66368, 10)"
      ]
     },
     "execution_count": 6,
     "metadata": {},
     "output_type": "execute_result"
    }
   ],
   "source": [
    "companies.shape\n",
    "rounds2.shape"
   ]
  },
  {
   "cell_type": "code",
   "execution_count": 7,
   "metadata": {},
   "outputs": [
    {
     "data": {
      "text/plain": [
       "(94959, 6)"
      ]
     },
     "execution_count": 7,
     "metadata": {},
     "output_type": "execute_result"
    }
   ],
   "source": [
    "#Data cleanup rounds2\n",
    "\n",
    "rounds2.head(100)\n",
    "rounds2[rounds2.isnull().sum(axis=1) > 5]\n",
    "len(rounds2[rounds2.isnull().sum(axis=1) > 5].index)\n",
    "\n",
    "round(100*(rounds2.isnull().sum()/len(rounds2.index)), 2)\n",
    "rounds2 = rounds2[~np.isnan(rounds2['raised_amount_usd'])]\n",
    "round(100*(rounds2.isnull().sum()/len(rounds2.index)), 2)\n",
    "#rounds2 = rounds2.drop(['funding_round_code'],   axis=1)\n",
    "round(100*(rounds2.isnull().sum()/len(rounds2.index)), 2)\n",
    "rounds2.shape"
   ]
  },
  {
   "cell_type": "code",
   "execution_count": 8,
   "metadata": {},
   "outputs": [
    {
     "data": {
      "text/plain": [
       "(94959, 6)"
      ]
     },
     "execution_count": 8,
     "metadata": {},
     "output_type": "execute_result"
    }
   ],
   "source": [
    "#Data cleanup Companies\n",
    "#Identify rows with more than 5 missing values\n",
    "companies[companies.isnull().sum(axis=1) > 5]\n",
    "len(companies[companies.isnull().sum(axis=1) > 5].index)\n",
    "\n",
    "\n",
    "round(100*(companies.isnull().sum()/len(companies.index)), 2)\n",
    "#companies = companies.drop([ 'state_code', 'region', 'city','founded_at','homepage_url'],   axis=1)\n",
    "\n",
    "round(100*(companies.isnull().sum()/len(companies.index)), 2)\n",
    "\n",
    "# Similarly  for category_list and countr_code the missing values are still there. Identify them and drop.\n",
    "# First replace them with NaN and then drop using dropna.\n",
    "#companies.shape\n",
    "\n",
    "companies['category_list'].replace('', np.nan, inplace=True)\n",
    "companies['country_code'].replace('', np.nan, inplace=True)\n",
    "companies.dropna(subset=['category_list'], inplace=True)\n",
    "companies.dropna(subset=['country_code'], inplace=True)\n",
    "round(100*(companies.isnull().sum()/len(companies.index)), 2)\n",
    "companies.shape\n",
    "rounds2.shape"
   ]
  },
  {
   "cell_type": "code",
   "execution_count": 10,
   "metadata": {},
   "outputs": [
    {
     "data": {
      "text/plain": [
       "57804"
      ]
     },
     "execution_count": 10,
     "metadata": {},
     "output_type": "execute_result"
    }
   ],
   "source": [
    "#Checkpoint 2: Funding Type Analysis\n",
    "#Table-1.1 Understand the Data Set \n",
    "#Merge the two data frames so that all  variables (columns)  in the companies frame are added to the rounds2 data frame. \n",
    "#Name the merged frame master_frame. \n",
    "#Merging two dataframes based on shared index values \n",
    "\n",
    "\n",
    "#companies.columns # permalink\n",
    "\n",
    "master_frame = pd.merge(companies, rounds2, on='permalink', how = 'left')\n",
    "\n",
    "rounds2.columns #company_permalink\n",
    "companies.columns\n",
    "#master_frame\n",
    "master_frame.columns\n",
    "master_frame.shape\n",
    "#master_frame.info()\n",
    "\n",
    "len(master_frame['permalink'].unique().tolist())\n"
   ]
  },
  {
   "cell_type": "code",
   "execution_count": 11,
   "metadata": {},
   "outputs": [
    {
     "data": {
      "text/plain": [
       "funding_round_type\n",
       "private_equity    73.938486\n",
       "venture           11.724223\n",
       "angel              0.971574\n",
       "seed               0.747794\n",
       "Name: raised_amount_usd, dtype: float64"
      ]
     },
     "execution_count": 11,
     "metadata": {},
     "output_type": "execute_result"
    }
   ],
   "source": [
    "#Average Values of Investments Table 2.1.1\n",
    "master_frame.shape\n",
    "master_frame\n",
    "#Now we have to do group analysis,\n",
    "# Grouping: First, we will group the dataframe by Funding Types i.e., 'funding_round_type'\n",
    "\n",
    "invest_sub_type = ['venture', 'angel', 'seed', 'private_equity']\n",
    "invest_sub_type_df = master_frame.loc[master_frame['funding_round_type'].isin(invest_sub_type), :]\n",
    "invest_sub_type_df['raised_amount_usd'] = invest_sub_type_df['raised_amount_usd']/1000000\n",
    "invest_sub_type_grp = invest_sub_type_df.groupby('funding_round_type')\n",
    "invest_sub_type_grp['raised_amount_usd'].mean().sort_values(ascending = False)\n",
    "\n"
   ]
  },
  {
   "cell_type": "code",
   "execution_count": 12,
   "metadata": {
    "scrolled": true
   },
   "outputs": [
    {
     "data": {
      "text/html": [
       "<div>\n",
       "<style scoped>\n",
       "    .dataframe tbody tr th:only-of-type {\n",
       "        vertical-align: middle;\n",
       "    }\n",
       "\n",
       "    .dataframe tbody tr th {\n",
       "        vertical-align: top;\n",
       "    }\n",
       "\n",
       "    .dataframe thead th {\n",
       "        text-align: right;\n",
       "    }\n",
       "</style>\n",
       "<table border=\"1\" class=\"dataframe\">\n",
       "  <thead>\n",
       "    <tr style=\"text-align: right;\">\n",
       "      <th></th>\n",
       "      <th>country_code</th>\n",
       "      <th>raised_amount_usd</th>\n",
       "    </tr>\n",
       "  </thead>\n",
       "  <tbody>\n",
       "    <tr>\n",
       "      <th>124</th>\n",
       "      <td>USA</td>\n",
       "      <td>5.084739e+11</td>\n",
       "    </tr>\n",
       "    <tr>\n",
       "      <th>21</th>\n",
       "      <td>CHN</td>\n",
       "      <td>6.100092e+10</td>\n",
       "    </tr>\n",
       "    <tr>\n",
       "      <th>40</th>\n",
       "      <td>GBR</td>\n",
       "      <td>2.689981e+10</td>\n",
       "    </tr>\n",
       "    <tr>\n",
       "      <th>53</th>\n",
       "      <td>IND</td>\n",
       "      <td>2.104911e+10</td>\n",
       "    </tr>\n",
       "    <tr>\n",
       "      <th>18</th>\n",
       "      <td>CAN</td>\n",
       "      <td>1.316891e+10</td>\n",
       "    </tr>\n",
       "    <tr>\n",
       "      <th>29</th>\n",
       "      <td>DEU</td>\n",
       "      <td>8.580103e+09</td>\n",
       "    </tr>\n",
       "    <tr>\n",
       "      <th>57</th>\n",
       "      <td>ISR</td>\n",
       "      <td>8.101823e+09</td>\n",
       "    </tr>\n",
       "    <tr>\n",
       "      <th>39</th>\n",
       "      <td>FRA</td>\n",
       "      <td>8.078614e+09</td>\n",
       "    </tr>\n",
       "    <tr>\n",
       "      <th>88</th>\n",
       "      <td>NLD</td>\n",
       "      <td>5.058484e+09</td>\n",
       "    </tr>\n",
       "  </tbody>\n",
       "</table>\n",
       "</div>"
      ],
      "text/plain": [
       "    country_code  raised_amount_usd\n",
       "124          USA       5.084739e+11\n",
       "21           CHN       6.100092e+10\n",
       "40           GBR       2.689981e+10\n",
       "53           IND       2.104911e+10\n",
       "18           CAN       1.316891e+10\n",
       "29           DEU       8.580103e+09\n",
       "57           ISR       8.101823e+09\n",
       "39           FRA       8.078614e+09\n",
       "88           NLD       5.058484e+09"
      ]
     },
     "execution_count": 12,
     "metadata": {},
     "output_type": "execute_result"
    }
   ],
   "source": [
    "#Checkpoint 3: Country Analysis\n",
    "#Analysing the Top 3 English-Speaking Countries\n",
    "#country analysis.\n",
    "#Top nine countries which have received the highest total funding (across ALL sectors for the chosen investment type)\n",
    "\n",
    "master_frame\n",
    "\n",
    "#Replace this chosen_invest_type with the funding type as required. Here in example taken 'venture' as chosen type.\n",
    "invest_sub_type = ['venture', 'angel', 'seed', 'private_equity']\n",
    "\n",
    "\n",
    "#Prepare a dataframe for all values of chosen investment type.\n",
    "chosen_invest_type_df = master_frame.loc[master_frame['funding_round_type'].isin(invest_sub_type), :]\n",
    "chosen_invest_type_df\n",
    "\n",
    "#Now set the index to prepare a new dataframe top9.\n",
    "df = chosen_invest_type_df.set_index(['country_code','raised_amount_usd'])    \n",
    "top_funding_types_for_chosen = chosen_invest_type_df.groupby(['country_code'])['raised_amount_usd'].sum().reset_index()\n",
    "\n",
    "#Now make a data frame named top9 with the top nine countries based on the total investment amount each country has received.\n",
    "top9 = top_funding_types_for_chosen.nlargest(9, 'raised_amount_usd')\n",
    "top9\n"
   ]
  },
  {
   "cell_type": "code",
   "execution_count": 13,
   "metadata": {},
   "outputs": [],
   "source": [
    "top9_csv = top9.to_csv (r'C:\\Users\\bhassrin\\top9.csv', index = None, header=True)"
   ]
  },
  {
   "cell_type": "code",
   "execution_count": 15,
   "metadata": {},
   "outputs": [
    {
     "data": {
      "text/plain": [
       "8"
      ]
     },
     "execution_count": 15,
     "metadata": {},
     "output_type": "execute_result"
    }
   ],
   "source": [
    "#Checkpoint 4: Sector Analysis 1\n",
    "\n",
    "#Sector Analysis for country_code ['USA', 'GBR', 'IND'] and funding_round_type in ['venture']\n",
    "chosen_countries = ['USA', 'GBR', 'IND'] \n",
    "venture_df_1 = master_frame.loc[master_frame['funding_round_type'].isin(['venture']), :]\n",
    "\n",
    "venture_df = venture_df_1.loc[venture_df_1['country_code'].isin(chosen_countries), :]\n",
    "\n",
    "\n",
    "#1.Extract the primary sector of each category list from the category_list column\n",
    "venture_df['primary_sector'] = venture_df.category_list.str.split(\"|\", n = 2, expand = True)[0]\n",
    "\n",
    "#2 Load the mapping.csv file into a new dataframe mappings\n",
    "mappings = pd.read_csv(\"C:\\\\Users\\\\BHASSRIN\\mapping.csv\")\n",
    "#Drop unnecessary columns and clean for NaN\n",
    "mappings = mappings.drop(['Blanks'],   axis=1)\n",
    "mappings.columns\n",
    "mappings.dropna(subset=['category_list'], inplace=True)\n",
    "mappings\n",
    "\n",
    "#Now use melt function to transform the mappings dataframe as required.\n",
    "\n",
    "melted = pd.melt(mappings, id_vars=[\"category_list\"], var_name=\"Main_Sector\", value_name=\"isMain\")\n",
    "melted.shape\n",
    "\n",
    "# Filter only those rows which are mapped to main sectors.\n",
    "mappings_final = melted[(melted['isMain'] == '1')]\n",
    "\n",
    "#Drop unnecessary columns\n",
    "mappings_final = mappings_final.drop(['isMain'],   axis=1)\n",
    "mappings_final\n",
    "\n",
    "#Create a final dataframe with primary_sector and main_sector columns. Merge both to get the final dataframe.\n",
    "venture_df_final = pd.merge(venture_df, mappings_final, on='category_list')\n",
    "venture_df_final.columns\n",
    "\n",
    "#Now this final Dataframe is mapped to one of 8 main sectors. Be happy now.\n",
    "len(venture_df_final['Main_Sector'].unique().tolist())"
   ]
  },
  {
   "cell_type": "code",
   "execution_count": 111,
   "metadata": {},
   "outputs": [],
   "source": [
    "#Check point 5\n",
    "#1. Create three separate data frames D1, D2 and D3 for each of the three countries containing the observations \n",
    "# of funding type FT falling within the 5-15 million USD range. The three data frames should contain:\n",
    "\n",
    "#All the columns of the master_frame along with the primary sector and the main sector\n",
    "#The total number (or count) of investments for each main sector in a separate column\n",
    "#The total amount invested in each main sector in a separate column\n",
    "\n",
    "venture_df_5_to_15M = venture_df_final.loc[(round(venture_df_final.raised_amount_usd/1000000,0) > 5.0) & (round(venture_df_final.raised_amount_usd/1000000,0) < 15.0) , :]\n",
    "\n",
    "#The below Data Frame will contain all the investments ranging 5M to 15M for Venture funding type and Top 3 English speaking countries.\n",
    "\n",
    "venture_df_5_to_15M['country_code'].unique().tolist()\n",
    "\n",
    "master_frame.columns\n",
    "Country_1 = ['USA']\n",
    "Country_2 = ['GBR']\n",
    "Country_3 = ['IND']\n",
    "\n",
    "\n",
    "#Prepare a dataframe for all values of chosen country_code.\n",
    "D1_temp = venture_df_5_to_15M.loc[venture_df_5_to_15M['country_code'].isin(Country_1), :]\n",
    "D2_temp = venture_df_5_to_15M.loc[venture_df_5_to_15M['country_code'].isin(Country_2), :]\n",
    "D3_temp = venture_df_5_to_15M.loc[venture_df_5_to_15M['country_code'].isin(Country_3), :]\n",
    "\n",
    "#Now set the index to prepare a new dataframes D1, D2, D3\n",
    "#For this first prepare dataframes with columns as temporary data frames and then merge them with main data frame\n",
    "#using .Main_Sector\n",
    "\n",
    "df1 = D1_temp.set_index(['Main_Sector','raised_amount_usd'])    \n",
    "D1_temp_amount = D1_temp.groupby(['Main_Sector'])['raised_amount_usd'].sum().reset_index()\n",
    "D1_temp_amount = D1_temp_amount.rename(columns={'raised_amount_usd': 'total_amount_raised'})\n",
    "df11 = D1_temp.set_index(['Main_Sector','raised_amount_usd'])    \n",
    "D1_temp_count = D1_temp.groupby(['Main_Sector'])['raised_amount_usd'].size().reset_index()\n",
    "D1_temp_count = D1_temp_count.rename(columns={'raised_amount_usd': 'total_investments'})\n",
    "\n",
    "\n",
    "df2 = D2_temp.set_index(['Main_Sector','raised_amount_usd'])    \n",
    "D2_temp_amount = D2_temp.groupby(['Main_Sector'])['raised_amount_usd'].sum().reset_index()\n",
    "D2_temp_amount = D2_temp_amount.rename(columns={'raised_amount_usd': 'total_amount_raised'})\n",
    "df22 = D2_temp.set_index(['Main_Sector','raised_amount_usd'])    \n",
    "D2_temp_count = D2_temp.groupby(['Main_Sector'])['raised_amount_usd'].size().reset_index()\n",
    "D2_temp_count = D2_temp_count.rename(columns={'raised_amount_usd': 'total_investments'})\n",
    "\n",
    "\n",
    "df3 = D3_temp.set_index(['Main_Sector','raised_amount_usd'])    \n",
    "D3_temp_amount = D3_temp.groupby(['Main_Sector'])['raised_amount_usd'].sum().reset_index()\n",
    "D3_temp_amount = D3_temp_amount.rename(columns={'raised_amount_usd': 'total_amount_raised'})\n",
    "df33 = D3_temp.set_index(['Main_Sector','raised_amount_usd'])    \n",
    "D3_temp_count = D3_temp.groupby(['Main_Sector'])['raised_amount_usd'].size().reset_index()\n",
    "D3_temp_count = D3_temp_count.rename(columns={'raised_amount_usd': 'total_investments'})\n",
    "\n",
    "D1_amt_cnt = pd.merge(D1_temp_amount, D1_temp_count, on='Main_Sector')\n",
    "D2_amt_cnt = pd.merge(D2_temp_amount, D2_temp_count, on='Main_Sector')\n",
    "D3_amt_cnt = pd.merge(D3_temp_amount, D3_temp_count, on='Main_Sector')\n",
    "\n",
    "\n",
    "D1 = pd.merge(D1_temp, D1_amt_cnt, on='Main_Sector')\n",
    "D2 = pd.merge(D2_temp, D2_amt_cnt, on='Main_Sector')\n",
    "D3 = pd.merge(D3_temp, D3_amt_cnt, on='Main_Sector')\n",
    "\n",
    "#Table 5.1\n",
    "\n",
    "#1 Total number of Investments (count)\n",
    "D1['total_investments'].unique().sum()\n",
    "D2['total_investments'].unique().sum()\n",
    "D3['total_investments'].unique().sum()\n",
    "\n",
    "#2 Total amount of investment (USD)\n",
    "D1['total_amount_raised'].unique().sum()\n",
    "D2['total_amount_raised'].unique().sum()\n",
    "D3['total_amount_raised'].unique().sum()\n",
    "\n",
    "#Top Sector name (no. of investment-wise) For questions 3 to 8\n",
    "D1_temp_count.sort_values(by=['total_investments'])\n",
    "D2_temp_count.sort_values(by=['total_investments'])\n",
    "D3_temp_count.sort_values(by=['total_investments'])\n",
    "\n",
    "\n",
    "\n",
    "#For point 3 (top sector count-wise), which company received the highest investment?\n",
    "# top sector is Others for D1 \n",
    "OTH = ['Others']\n",
    "D1_others = D1.loc[D1['Main_Sector'].isin(OTH), :]\n",
    "D1_others.sort_values(by=['raised_amount_usd'], ascending =False)\n",
    "D1_others.nlargest(1, 'raised_amount_usd')\n",
    "#For point 4 (second best sector count-wise), which company received the highest investment?\n",
    "#For Table - 5.1 Questions 9 and 10 in table,\n",
    "\n",
    "CLN = ['Cleantech / Semiconductors']\n",
    "D1_CLN = D1.loc[D1['Main_Sector'].isin(CLN), :]\n",
    "#D1_CLN.sort_values(by=['raised_amount_usd'], ascending =False).nlargest('Main_Sector',1)\n",
    "D1_CLN.nlargest(1, 'raised_amount_usd')\n",
    "\n",
    "\n",
    "#Same to be repeated for D2\n",
    "D2_others = D2.loc[D2['Main_Sector'].isin(OTH), :]\n",
    "D2_others.sort_values(by=['raised_amount_usd'], ascending =False)\n",
    "\n",
    "D2_CLN = D2.loc[D2['Main_Sector'].isin(CLN), :]\n",
    "D2_CLN.sort_values(by=['raised_amount_usd'], ascending =False)\n",
    "\n",
    "#Same to be repeated for D3\n",
    "\n",
    "NSM = ['News, Search and Messaging']\n",
    "\n",
    "#D3_others = D3.loc[D3['Main_Sector'].isin(OTH), :]\n",
    "#D3_others.sort_values(by=['raised_amount_usd'], ascending =False)\n",
    "\n",
    "D3_NSM = D3.loc[D3['Main_Sector'].isin(NSM), :]\n",
    "D3_NSM.sort_values(by=['raised_amount_usd'], ascending =False)\n",
    "\n",
    "\n",
    "\n",
    "\n"
   ]
  },
  {
   "cell_type": "code",
   "execution_count": 122,
   "metadata": {},
   "outputs": [],
   "source": [
    "#Checkpoint 6 \n",
    "#Below code will export the data to a csv file from master_frame data frame\n",
    "master_frame = master_frame.to_csv (r'C:\\Users\\bhassrin\\master_frame.csv', index = None, header=True) "
   ]
  },
  {
   "cell_type": "code",
   "execution_count": null,
   "metadata": {},
   "outputs": [],
   "source": []
  }
 ],
 "metadata": {
  "kernelspec": {
   "display_name": "Python 3",
   "language": "python",
   "name": "python3"
  },
  "language_info": {
   "codemirror_mode": {
    "name": "ipython",
    "version": 3
   },
   "file_extension": ".py",
   "mimetype": "text/x-python",
   "name": "python",
   "nbconvert_exporter": "python",
   "pygments_lexer": "ipython3",
   "version": "3.7.0"
  }
 },
 "nbformat": 4,
 "nbformat_minor": 2
}
