{
 "cells": [
  {
   "cell_type": "markdown",
   "metadata": {},
   "source": [
    "### Problem Statement\n",
    "#### Exploratory Analysis of NYC Parking tickets.\n",
    "Big data analytics allows you to analyse data at scale. It has applications in almost every industry in the world. Let’s consider an unconventional application that you wouldn’t ordinarily encounter.\n",
    " \n",
    "New York City is a thriving metropolis. Just like most other metros its size, one of the biggest problems its citizens face is parking. The classic combination of a huge number of cars and cramped geography leads to a huge number of parking tickets.\n",
    " \n",
    "In an attempt to scientifically analyse this phenomenon, the NYC Police Department has collected data for parking tickets. Of these, the data files for multiple years are publicly available on Kaggle. We will try and perform some exploratory analysis on a part of this data. Spark will allow us to analyse the full files at high speeds as opposed to taking a series of random samples that will approximate the population. For the scope of this analysis, we will analyse the parking tickets over the year 2017. \n",
    " \n",
    "Note: Although the broad goal of any analysis of this type is to have better parking and fewer tickets, we are not looking for recommendations on how to reduce the number of parking tickets—there are no specific points reserved for this.\n",
    " \n",
    "The purpose of this case study is to conduct an exploratory data analysis that will help you understand the data. Since the size of the dataset is large, your queries will take some time to run, and you will need to identify the correct queries quicker. The questions given below will guide your analysis.\n"
   ]
  },
  {
   "cell_type": "markdown",
   "metadata": {},
   "source": [
    "### Objectives of the Case Study\n",
    "\n",
    "Primarily, this case study is meant as a deep dive into the usage of Spark. As you saw while working with Spark, its syntax behaves differently from a regular Python syntax. One of the major objectives of this case study is to gain familiarity with how analysis works in PySpark as opposed to base Python.\n",
    "Learning the basic idea behind using functions in PySpark can help in using other libraries like SparkR. If you are in a company where R is a primary language, you can easily pick up SparkR syntax and use Spark’s processing power.\n",
    "The process of running a model-building command boils down to a few lines of code. While drawing inferences from data, the most time-consuming step is preparing the data up to the point of model building. So, this case study will focus more on exploratory analysis.\n",
    "\n"
   ]
  },
  {
   "cell_type": "code",
   "execution_count": 1,
   "metadata": {},
   "outputs": [],
   "source": [
    "from pyspark.sql import SparkSession\n",
    "spark = SparkSession \\\n",
    "    .builder \\\n",
    "    .appName(\"NYC Exploratory Analysis-BHS\") \\\n",
    "    .getOrCreate()"
   ]
  },
  {
   "cell_type": "code",
   "execution_count": 2,
   "metadata": {},
   "outputs": [
    {
     "data": {
      "text/plain": [
       "DataFrame[Summons Number: bigint, Plate ID: string, Registration State: string, Issue Date: timestamp, Violation Code: int, Vehicle Body Type: string, Vehicle Make: string, Violation Precinct: int, Issuer Precinct: int, Violation Time: string]"
      ]
     },
     "execution_count": 2,
     "metadata": {},
     "output_type": "execute_result"
    }
   ],
   "source": [
    "#'/common_folder/nyc_parking/Parking_Violations_Issued_-_Fiscal_Year_2017.csv'\n",
    "parking_bhs = spark.read.format(\"csv\").option(\"header\", \"true\").option(\"inferSchema\", \"true\").load('/common_folder/nyc_parking/Parking_Violations_Issued_-_Fiscal_Year_2017.csv')\n",
    "parking_bhs"
   ]
  },
  {
   "cell_type": "code",
   "execution_count": 3,
   "metadata": {},
   "outputs": [
    {
     "name": "stdout",
     "output_type": "stream",
     "text": [
      "+--------------+--------+------------------+-------------------+--------------+-----------------+------------+------------------+---------------+--------------+\n",
      "|Summons Number|Plate ID|Registration State|         Issue Date|Violation Code|Vehicle Body Type|Vehicle Make|Violation Precinct|Issuer Precinct|Violation Time|\n",
      "+--------------+--------+------------------+-------------------+--------------+-----------------+------------+------------------+---------------+--------------+\n",
      "|    5092469481| GZH7067|                NY|2016-07-10 00:00:00|             7|             SUBN|       TOYOT|                 0|              0|         0143A|\n",
      "|    5092451658| GZH7067|                NY|2016-07-08 00:00:00|             7|             SUBN|       TOYOT|                 0|              0|         0400P|\n",
      "|    4006265037| FZX9232|                NY|2016-08-23 00:00:00|             5|             SUBN|        FORD|                 0|              0|         0233P|\n",
      "|    8478629828| 66623ME|                NY|2017-06-14 00:00:00|            47|             REFG|       MITSU|                14|             14|         1120A|\n",
      "|    7868300310| 37033JV|                NY|2016-11-21 00:00:00|            69|             DELV|       INTER|                13|             13|         0555P|\n",
      "+--------------+--------+------------------+-------------------+--------------+-----------------+------------+------------------+---------------+--------------+\n",
      "only showing top 5 rows\n",
      "\n"
     ]
    }
   ],
   "source": [
    "parking_bhs.show(5)"
   ]
  },
  {
   "cell_type": "code",
   "execution_count": 4,
   "metadata": {},
   "outputs": [
    {
     "name": "stdout",
     "output_type": "stream",
     "text": [
      "+-------+--------------------+--------+------------------+------------------+------------------+------------------+------------------+-----------------+-----------------+\n",
      "|summary|      Summons Number|Plate ID|Registration State|    Violation Code| Vehicle Body Type|      Vehicle Make|Violation Precinct|  Issuer Precinct|   Violation Time|\n",
      "+-------+--------------------+--------+------------------+------------------+------------------+------------------+------------------+-----------------+-----------------+\n",
      "|  count|            10803028|10803028|          10803028|          10803028|          10803028|          10803028|          10803028|         10803028|         10803028|\n",
      "|   mean|6.8174470290656595E9|Infinity|              99.0|34.599430455979565|3.9258887134586864| 6519.974025974026| 45.01216260848347|46.82931211508477|909.2857142857143|\n",
      "| stddev| 2.320233962328229E9|     NaN|               0.0| 19.35986871632348|0.5013415469252523|18091.257389147086|40.552560268435805|62.66703577269466|791.8453853409226|\n",
      "|    min|          1002884949|   #1MOM|                99|                 0|                00|             ,FREI|                 0|                0|            .240P|\n",
      "|    max|          8585600044|       ~|                WY|                99|               nan|               nan|               933|              997|              nan|\n",
      "+-------+--------------------+--------+------------------+------------------+------------------+------------------+------------------+-----------------+-----------------+\n",
      "\n"
     ]
    }
   ],
   "source": [
    "# summary statistics\n",
    "parking_bhs.describe().show()"
   ]
  },
  {
   "cell_type": "code",
   "execution_count": 5,
   "metadata": {},
   "outputs": [
    {
     "name": "stdout",
     "output_type": "stream",
     "text": [
      "root\n",
      " |-- Summons Number: long (nullable = true)\n",
      " |-- Plate ID: string (nullable = true)\n",
      " |-- Registration State: string (nullable = true)\n",
      " |-- Issue Date: timestamp (nullable = true)\n",
      " |-- Violation Code: integer (nullable = true)\n",
      " |-- Vehicle Body Type: string (nullable = true)\n",
      " |-- Vehicle Make: string (nullable = true)\n",
      " |-- Violation Precinct: integer (nullable = true)\n",
      " |-- Issuer Precinct: integer (nullable = true)\n",
      " |-- Violation Time: string (nullable = true)\n",
      "\n"
     ]
    }
   ],
   "source": [
    "# datatype of columns\n",
    "parking_bhs.printSchema()"
   ]
  },
  {
   "cell_type": "code",
   "execution_count": 6,
   "metadata": {},
   "outputs": [
    {
     "data": {
      "text/plain": [
       "10803028"
      ]
     },
     "execution_count": 6,
     "metadata": {},
     "output_type": "execute_result"
    }
   ],
   "source": [
    "# Total row count\n",
    "parking_bhs.count()"
   ]
  },
  {
   "cell_type": "code",
   "execution_count": 8,
   "metadata": {},
   "outputs": [
    {
     "data": {
      "text/plain": [
       "10"
      ]
     },
     "execution_count": 8,
     "metadata": {},
     "output_type": "execute_result"
    }
   ],
   "source": [
    "# Total column count\n",
    "len(parking_bhs.columns)"
   ]
  },
  {
   "cell_type": "code",
   "execution_count": 9,
   "metadata": {},
   "outputs": [
    {
     "data": {
      "text/plain": [
       "10803028"
      ]
     },
     "execution_count": 9,
     "metadata": {},
     "output_type": "execute_result"
    }
   ],
   "source": [
    "# Let us drop the duplicates(If any) using dropDuplicates\n",
    "parking_bhs=parking_bhs.dropDuplicates()\n",
    "parking_bhs.count()"
   ]
  },
  {
   "cell_type": "code",
   "execution_count": 10,
   "metadata": {},
   "outputs": [
    {
     "data": {
      "text/plain": [
       "10803028"
      ]
     },
     "execution_count": 10,
     "metadata": {},
     "output_type": "execute_result"
    }
   ],
   "source": [
    "# Let us drop the null values(If any) using dropna()\n",
    "parking_bhs=parking_bhs.dropna()\n",
    "parking_bhs.count()"
   ]
  },
  {
   "cell_type": "code",
   "execution_count": 11,
   "metadata": {},
   "outputs": [
    {
     "data": {
      "text/plain": [
       "10803028"
      ]
     },
     "execution_count": 11,
     "metadata": {},
     "output_type": "execute_result"
    }
   ],
   "source": [
    "# Let us see the distinct Summons issued\n",
    "parking_bhs.select('Summons Number').distinct().count()"
   ]
  },
  {
   "cell_type": "markdown",
   "metadata": {},
   "source": [
    "###### Change the column names \n",
    "Replace '  ' with '_' "
   ]
  },
  {
   "cell_type": "code",
   "execution_count": 12,
   "metadata": {},
   "outputs": [
    {
     "name": "stdout",
     "output_type": "stream",
     "text": [
      "+--------------+--------+------------------+-------------------+--------------+-----------------+------------+------------------+---------------+--------------+\n",
      "|Summons_Number|Plate_ID|Registration_State|         Issue_Date|Violation_Code|Vehicle_Body_Type|Vehicle_Make|Violation_Precinct|Issuer_Precinct|Violation_Time|\n",
      "+--------------+--------+------------------+-------------------+--------------+-----------------+------------+------------------+---------------+--------------+\n",
      "|    4635295722| CXC9014|                NY|2017-06-15 00:00:00|            36|             SUBN|       NISSA|                 0|              0|         0100P|\n",
      "|    5095923518| HKM4336|                NY|2017-04-08 00:00:00|             7|             SUBN|       TOYOT|                 0|              0|         0100P|\n",
      "|    5095901330| HKY8847|                NY|2017-04-06 00:00:00|             7|             SUBN|       DODGE|                 0|              0|         0100P|\n",
      "|    5092838796| KBD3222|                PA|2016-08-03 00:00:00|             7|              SDN|       INFIN|                 0|              0|         0100P|\n",
      "|    1422068500| 074B674|                99|2017-06-16 00:00:00|            66|             TRAI|       GREAT|                75|              0|         0102A|\n",
      "+--------------+--------+------------------+-------------------+--------------+-----------------+------------+------------------+---------------+--------------+\n",
      "only showing top 5 rows\n",
      "\n"
     ]
    }
   ],
   "source": [
    "parking_bhs= parking_bhs.toDF(*(c.replace(' ', '_') for c in parking_bhs.columns))\n",
    "parking_bhs.show(5)"
   ]
  },
  {
   "cell_type": "code",
   "execution_count": 13,
   "metadata": {},
   "outputs": [],
   "source": [
    "parking_bhs.createOrReplaceTempView(\"NYCparkingtableBHS\")"
   ]
  },
  {
   "cell_type": "code",
   "execution_count": 14,
   "metadata": {},
   "outputs": [
    {
     "data": {
      "text/plain": [
       "DataFrame[Summons_Number: bigint, Plate_ID: string, Registration_State: string, Issue_Date: timestamp, Violation_Code: int, Vehicle_Body_Type: string, Vehicle_Make: string, Violation_Precinct: int, Issuer_Precinct: int, Violation_Time: string]"
      ]
     },
     "execution_count": 14,
     "metadata": {},
     "output_type": "execute_result"
    }
   ],
   "source": [
    "spark.sql('Select * from NYCparkingtableBHS')"
   ]
  },
  {
   "cell_type": "code",
   "execution_count": 15,
   "metadata": {},
   "outputs": [
    {
     "name": "stdout",
     "output_type": "stream",
     "text": [
      "+----+-------------+\n",
      "|year|no_of_tickets|\n",
      "+----+-------------+\n",
      "|1972|            2|\n",
      "|1973|            2|\n",
      "|1974|            1|\n",
      "|1976|            1|\n",
      "|1977|            1|\n",
      "|1984|            1|\n",
      "|1985|            1|\n",
      "|1990|            2|\n",
      "|1991|            3|\n",
      "|1994|            1|\n",
      "|1996|            1|\n",
      "|1997|            1|\n",
      "|2000|          185|\n",
      "|2001|            2|\n",
      "|2002|            1|\n",
      "|2003|            1|\n",
      "|2004|            2|\n",
      "|2005|            1|\n",
      "|2006|            8|\n",
      "|2007|           18|\n",
      "|2008|            4|\n",
      "|2009|            3|\n",
      "|2010|           48|\n",
      "|2011|           22|\n",
      "|2012|           87|\n",
      "|2013|           70|\n",
      "|2014|          120|\n",
      "|2015|          419|\n",
      "|2016|      5368391|\n",
      "|2017|      5431918|\n",
      "|2018|         1057|\n",
      "|2019|          472|\n",
      "|2020|           22|\n",
      "|2021|           22|\n",
      "|2022|            4|\n",
      "|2023|            5|\n",
      "|2024|            3|\n",
      "|2025|            6|\n",
      "|2026|           24|\n",
      "|2027|           50|\n",
      "|2028|            8|\n",
      "|2029|            2|\n",
      "|2030|           12|\n",
      "|2031|            5|\n",
      "|2033|            2|\n",
      "|2036|            1|\n",
      "|2041|            1|\n",
      "|2047|            2|\n",
      "|2053|            1|\n",
      "|2060|            2|\n",
      "|2061|            1|\n",
      "|2062|            2|\n",
      "|2063|            2|\n",
      "|2068|            1|\n",
      "|2069|            4|\n",
      "+----+-------------+\n",
      "\n"
     ]
    }
   ],
   "source": [
    "# Total number of tickets for each year\n",
    "tickets_per_year = spark.sql(\"select year(Issue_Date) as year, count(Summons_Number) as no_of_tickets from NYCparkingtableBHS group by year order by year\")\n",
    "tickets_per_year.show(100)"
   ]
  },
  {
   "cell_type": "code",
   "execution_count": 16,
   "metadata": {},
   "outputs": [
    {
     "data": {
      "text/plain": [
       "55"
      ]
     },
     "execution_count": 16,
     "metadata": {},
     "output_type": "execute_result"
    }
   ],
   "source": [
    "tickets_per_year.count()"
   ]
  },
  {
   "cell_type": "markdown",
   "metadata": {},
   "source": [
    "##### From the above two queries we can conclude the followig\n",
    "     1) The data is available from 1972 to 2069\n",
    "     2) The data is centered around 2016-2017\n",
    "     3) There are 55 distinct years\n",
    "Since the scope of the analysis is for the year 2017, we should consider data for that year only"
   ]
  },
  {
   "cell_type": "code",
   "execution_count": 17,
   "metadata": {},
   "outputs": [
    {
     "data": {
      "text/plain": [
       "5431918"
      ]
     },
     "execution_count": 17,
     "metadata": {},
     "output_type": "execute_result"
    }
   ],
   "source": [
    "# Create a new df with ONLY 2017 data\n",
    "parking_bhs.createOrReplaceTempView(\"parking_bhs_2017\")\n",
    "parking_bhs=spark.sql(\"select * from parking_bhs_2017 where year(TO_DATE(CAST(UNIX_TIMESTAMP(Issue_Date,'MM/dd/yyyy') AS TIMESTAMP))) = 2017 \")\n",
    "parking_bhs.count()"
   ]
  },
  {
   "cell_type": "code",
   "execution_count": 19,
   "metadata": {},
   "outputs": [
    {
     "name": "stdout",
     "output_type": "stream",
     "text": [
      "+----+-----+----------------+\n",
      "|year|month|Ticket_Frequency|\n",
      "+----+-----+----------------+\n",
      "|2017|    5|         1020244|\n",
      "|2017|    3|          964737|\n",
      "|2017|    4|          888402|\n",
      "|2017|    1|          877365|\n",
      "|2017|    6|          852187|\n",
      "|2017|    2|          826967|\n",
      "|2017|    7|             370|\n",
      "|2017|    9|             367|\n",
      "|2017|   12|             358|\n",
      "|2017|   11|             338|\n",
      "|2017|    8|             309|\n",
      "|2017|   10|             274|\n",
      "+----+-----+----------------+\n",
      "\n"
     ]
    }
   ],
   "source": [
    "# For using SQL, you need to create a temporary view\n",
    "parking_bhs.createOrReplaceTempView(\"parking_bhs_2017\")\n",
    "\n",
    "# Let us see the tickets issued month wise only in 2017. This will give us an idea of ticket frequency max, min, change of frequency over months\n",
    "\n",
    "Tkt_Frequency_Monthwise_2017= spark.sql(\"SELECT year(Issue_Date) as year,month(Issue_Date) as month,count(*) as Ticket_Frequency FROM parking_bhs_2017 GROUP BY year(Issue_Date),month(Issue_Date) order by Ticket_Frequency desc\")\n",
    "Tkt_Frequency_Monthwise_2017.show()"
   ]
  },
  {
   "cell_type": "markdown",
   "metadata": {},
   "source": [
    "###### From above we can conclude the following\n",
    "    1) Maximum tickets issued in May.\n",
    "    2) From Jul to Dec there is drop in the ticket frequency. It means the number of violations dropped from July to Dec.\n"
   ]
  },
  {
   "cell_type": "code",
   "execution_count": 20,
   "metadata": {},
   "outputs": [],
   "source": [
    "# Lets draw a barchart between violations by month and ticket frequency\n",
    "Violations_by_month = Tkt_Frequency_Monthwise_2017.toPandas()"
   ]
  },
  {
   "cell_type": "code",
   "execution_count": 22,
   "metadata": {},
   "outputs": [
    {
     "data": {
      "text/plain": [
       "<Figure size 432x288 with 0 Axes>"
      ]
     },
     "metadata": {},
     "output_type": "display_data"
    },
    {
     "data": {
      "image/png": "[encoded data removed]",
      "text/plain": [
       "<Figure size 432x288 with 1 Axes>"
      ]
     },
     "metadata": {},
     "output_type": "display_data"
    }
   ],
   "source": [
    "import pandas as pd\n",
    "import matplotlib.pyplot as plt\n",
    "plt.clf()\n",
    "Violations_by_month.plot(x= 'month', y='Ticket_Frequency', kind='bar')\n",
    "plt.title(\"Month Wise Violations in 2017\")\n",
    "plt.xlabel('month')\n",
    "plt.ylabel('Ticket_Frequency')\n",
    "plt.show()"
   ]
  },
  {
   "cell_type": "markdown",
   "metadata": {},
   "source": [
    "##### Check for NULL values"
   ]
  },
  {
   "cell_type": "code",
   "execution_count": 23,
   "metadata": {},
   "outputs": [
    {
     "name": "stdout",
     "output_type": "stream",
     "text": [
      "+---------------------+\n",
      "|Number_of_Null_Values|\n",
      "+---------------------+\n",
      "|                    0|\n",
      "+---------------------+\n",
      "\n"
     ]
    }
   ],
   "source": [
    "null_values=spark.sql(\"Select count(*) as Number_of_Null_Values from parking_bhs_2017 where Summons_Number is NULL or Plate_ID is NULL or Registration_State is NULL or Issue_Date is NULL or Violation_Code is NULL or Vehicle_Body_Type is NULL or Vehicle_Make is NULL or Violation_Precinct is NULL or Issuer_Precinct is NUll or Violation_Time is NULL \")\n",
    "null_values.show()"
   ]
  },
  {
   "cell_type": "markdown",
   "metadata": {},
   "source": [
    "##### Check whether there are cases with same Plate_ID\n"
   ]
  },
  {
   "cell_type": "code",
   "execution_count": 24,
   "metadata": {},
   "outputs": [
    {
     "name": "stdout",
     "output_type": "stream",
     "text": [
      "+----------+----------------+\n",
      "|  Plate_ID|Ticket_Frequency|\n",
      "+----------+----------------+\n",
      "|BLANKPLATE|            5261|\n",
      "|   96089MA|             529|\n",
      "|   96087MA|             528|\n",
      "|   94905JA|             527|\n",
      "|   14828MJ|             526|\n",
      "|   85848MD|             512|\n",
      "|   30954JX|             510|\n",
      "|   2121796|             507|\n",
      "|   16242TC|             496|\n",
      "|   2194153|             495|\n",
      "|   77116MA|             493|\n",
      "|   47603MD|             492|\n",
      "|   12359MG|             474|\n",
      "|   16208TC|             468|\n",
      "|   49731MA|             464|\n",
      "|   14829MJ|             460|\n",
      "|   49331KA|             458|\n",
      "|    XEEF98|             458|\n",
      "|   2028685|             454|\n",
      "|    AT459E|             452|\n",
      "+----------+----------------+\n",
      "only showing top 20 rows\n",
      "\n"
     ]
    }
   ],
   "source": [
    "\n",
    "Check_for_Plate_Id=spark.sql(\"Select Plate_ID, count(*) as Ticket_Frequency from parking_bhs_2017 group by Plate_ID having count(*)>1 order by Ticket_Frequency desc\")\n",
    "Check_for_Plate_Id.show()"
   ]
  },
  {
   "cell_type": "markdown",
   "metadata": {},
   "source": [
    "###### 5261 tickets issued for Plate_ID with 'BLANKPLATE'. For our analysis, we can drop these values."
   ]
  },
  {
   "cell_type": "code",
   "execution_count": 25,
   "metadata": {},
   "outputs": [
    {
     "data": {
      "text/plain": [
       "5426657"
      ]
     },
     "execution_count": 25,
     "metadata": {},
     "output_type": "execute_result"
    }
   ],
   "source": [
    "parking_bhs=parking_bhs[parking_bhs.Plate_ID!='BLANKPLATE']\n",
    "parking_bhs.count()"
   ]
  },
  {
   "cell_type": "code",
   "execution_count": 27,
   "metadata": {},
   "outputs": [],
   "source": [
    "parking_bhs.createOrReplaceTempView(\"parking_bhs_2017\")"
   ]
  },
  {
   "cell_type": "code",
   "execution_count": 28,
   "metadata": {},
   "outputs": [
    {
     "name": "stdout",
     "output_type": "stream",
     "text": [
      "+--------+----------------+\n",
      "|Plate_ID|Ticket_Frequency|\n",
      "+--------+----------------+\n",
      "| 96089MA|             529|\n",
      "| 96087MA|             528|\n",
      "| 94905JA|             527|\n",
      "| 14828MJ|             526|\n",
      "| 85848MD|             512|\n",
      "| 30954JX|             510|\n",
      "| 2121796|             507|\n",
      "+--------+----------------+\n",
      "\n"
     ]
    }
   ],
   "source": [
    "# Lets see number of violations above 500\n",
    "Violations_above_500=spark.sql(\"Select Plate_ID, count(*) as Ticket_Frequency from parking_bhs_2017 group by Plate_ID having count(*)>=500 order by Ticket_Frequency desc\")\n",
    "Violations_above_500.show()"
   ]
  },
  {
   "cell_type": "code",
   "execution_count": 30,
   "metadata": {},
   "outputs": [
    {
     "data": {
      "text/plain": [
       "<Figure size 432x288 with 0 Axes>"
      ]
     },
     "metadata": {},
     "output_type": "display_data"
    },
    {
     "data": {
      "image/png": "[encoded data removed]",
      "text/plain": [
       "<Figure size 432x288 with 1 Axes>"
      ]
     },
     "metadata": {},
     "output_type": "display_data"
    }
   ],
   "source": [
    "# Plot number of violation above 500\n",
    "Violations_above_500_By_PlateID=Violations_above_500.toPandas()\n",
    "plt.clf()\n",
    "Violations_above_500_By_PlateID.plot(x= 'Plate_ID', y='Ticket_Frequency', kind='bar')\n",
    "plt.title(\"Number of Violations above 500 \")\n",
    "plt.xlabel('Plate_ID')\n",
    "plt.ylabel('Ticket_Frequency')\n",
    "plt.show()"
   ]
  },
  {
   "cell_type": "markdown",
   "metadata": {},
   "source": [
    "###### There are 7 Plate IDs with more than 500 violations."
   ]
  },
  {
   "cell_type": "markdown",
   "metadata": {},
   "source": [
    "###  Examine the Data- Questions:\n",
    "1.\tFind the total number of tickets for the year.\n"
   ]
  },
  {
   "cell_type": "code",
   "execution_count": 32,
   "metadata": {},
   "outputs": [
    {
     "name": "stdout",
     "output_type": "stream",
     "text": [
      "+--------+------------------------------+\n",
      "|count(1)|count(DISTINCT Summons_Number)|\n",
      "+--------+------------------------------+\n",
      "| 5426657|                       5426657|\n",
      "+--------+------------------------------+\n",
      "\n"
     ]
    }
   ],
   "source": [
    "Total_tickets_2017=spark.sql(\"Select count(*),count(distinct(Summons_Number)) from parking_bhs_2017\")\n",
    "Total_tickets_2017.show()\n",
    "#Since count and distinct count of data is same, there is no duplicate tickets here.\n",
    "#Answer: 5426657"
   ]
  },
  {
   "cell_type": "markdown",
   "metadata": {},
   "source": [
    "2.\tFind out the number of unique states from where the cars that got parking tickets came. (Hint: Use the column 'Registration State'.)\n",
    "There is a numeric entry '99' in the column, which should be corrected. Replace it with the state having the maximum entries. Provide the number of unique states again"
   ]
  },
  {
   "cell_type": "code",
   "execution_count": 33,
   "metadata": {},
   "outputs": [
    {
     "data": {
      "text/plain": [
       "65"
      ]
     },
     "execution_count": 33,
     "metadata": {},
     "output_type": "execute_result"
    }
   ],
   "source": [
    "Uniqe_states = spark.sql(\"SELECT distinct(Registration_State), Count(*) as Number_of_Records from parking_bhs_2017 group by Registration_State order by Number_of_Records desc\")\n",
    "Uniqe_states.count()"
   ]
  },
  {
   "cell_type": "code",
   "execution_count": 34,
   "metadata": {},
   "outputs": [
    {
     "name": "stdout",
     "output_type": "stream",
     "text": [
      "+------------------+-----------------+\n",
      "|Registration_State|Number_of_Records|\n",
      "+------------------+-----------------+\n",
      "|                NY|          4273951|\n",
      "|                NJ|           475825|\n",
      "|                PA|           140286|\n",
      "|                CT|            70403|\n",
      "|                FL|            69468|\n",
      "|                IN|            45525|\n",
      "|                MA|            38941|\n",
      "|                VA|            34367|\n",
      "|                MD|            30213|\n",
      "|                NC|            27152|\n",
      "|                TX|            18827|\n",
      "|                IL|            18666|\n",
      "|                GA|            17537|\n",
      "|                AZ|            12379|\n",
      "|                OH|            12281|\n",
      "|                CA|            12153|\n",
      "|                ME|            10806|\n",
      "|                99|            10794|\n",
      "|                SC|            10395|\n",
      "|                MN|            10083|\n",
      "|                OK|             9088|\n",
      "|                TN|             8514|\n",
      "|                DE|             7905|\n",
      "|                MI|             7231|\n",
      "|                RI|             5814|\n",
      "|                NH|             4119|\n",
      "|                VT|             3683|\n",
      "|                AL|             3178|\n",
      "|                WA|             3052|\n",
      "|                OR|             2622|\n",
      "|                MO|             2483|\n",
      "|                ON|             2460|\n",
      "|                WI|             2127|\n",
      "|                QB|             1998|\n",
      "|                IA|             1938|\n",
      "|                DC|             1929|\n",
      "|                CO|             1841|\n",
      "|                KY|             1795|\n",
      "|                DP|             1794|\n",
      "|                LA|             1689|\n",
      "|                MS|             1582|\n",
      "|                WV|             1265|\n",
      "|                AR|              994|\n",
      "|                SD|              859|\n",
      "|                NM|              792|\n",
      "|                ID|              763|\n",
      "|                NV|              725|\n",
      "|                KS|              706|\n",
      "|                NE|              704|\n",
      "|                UT|              561|\n",
      "|                MT|              505|\n",
      "|                GV|              348|\n",
      "|                NS|              322|\n",
      "|                AK|              298|\n",
      "|                ND|              254|\n",
      "|                WY|              188|\n",
      "|                HI|              156|\n",
      "|                AB|               79|\n",
      "|                PE|               61|\n",
      "|                NB|               57|\n",
      "|                BC|               54|\n",
      "|                PR|               38|\n",
      "|                MB|               17|\n",
      "|                SK|                9|\n",
      "|                FO|                8|\n",
      "+------------------+-----------------+\n",
      "\n"
     ]
    }
   ],
   "source": [
    "Uniqe_states.show(500)"
   ]
  },
  {
   "cell_type": "markdown",
   "metadata": {},
   "source": [
    "##### There are 65 distinct values of Registration_State.\n",
    "- There is a numeric entry '99' in the column which should be corrected. We need to replace it with the state having maximum entries.\n",
    "- Since the maximum number of tickets are issued in NY, We can replace 99 by NY."
   ]
  },
  {
   "cell_type": "code",
   "execution_count": 35,
   "metadata": {},
   "outputs": [],
   "source": [
    "from pyspark.sql.functions import when,lit\n",
    "parking_bhs=parking_bhs.withColumn('Registration_State',when(parking_bhs[\"Registration_State\"]==\"99\",lit('NY')).otherwise(parking_bhs[\"Registration_State\"]))"
   ]
  },
  {
   "cell_type": "code",
   "execution_count": 36,
   "metadata": {},
   "outputs": [],
   "source": [
    "parking_bhs.createOrReplaceTempView(\"parking_bhs_2017\")"
   ]
  },
  {
   "cell_type": "code",
   "execution_count": 37,
   "metadata": {},
   "outputs": [
    {
     "data": {
      "text/plain": [
       "64"
      ]
     },
     "execution_count": 37,
     "metadata": {},
     "output_type": "execute_result"
    }
   ],
   "source": [
    "# Lets check again for number of distinct Registration_State.\n",
    "\n",
    "Uniqe_states=spark.sql(\"SELECT Registration_State, Count(*) as Ticket_Frequency from parking_bhs_2017 group by Registration_State order by Ticket_Frequency desc\")\n",
    "Uniqe_states.count()"
   ]
  },
  {
   "cell_type": "markdown",
   "metadata": {},
   "source": [
    "##### Answer to Question 2: There are 64 distinct values of Registration_State after replacing '99' with 'NY'"
   ]
  },
  {
   "cell_type": "markdown",
   "metadata": {},
   "source": [
    "### Aggregation tasks"
   ]
  },
  {
   "cell_type": "markdown",
   "metadata": {},
   "source": [
    "#### Q1. How often does each violation code occur? Display the frequency of the top five violation codes."
   ]
  },
  {
   "cell_type": "code",
   "execution_count": 40,
   "metadata": {},
   "outputs": [
    {
     "name": "stdout",
     "output_type": "stream",
     "text": [
      "+------------------------------+\n",
      "|count(DISTINCT Violation_Code)|\n",
      "+------------------------------+\n",
      "|                           100|\n",
      "+------------------------------+\n",
      "\n"
     ]
    }
   ],
   "source": [
    "# Violation Code count\n",
    "from pyspark.sql.functions import count,desc,countDistinct\n",
    "parking_bhs.select(countDistinct(\"Violation_Code\")).show()"
   ]
  },
  {
   "cell_type": "code",
   "execution_count": 41,
   "metadata": {},
   "outputs": [
    {
     "name": "stdout",
     "output_type": "stream",
     "text": [
      "+--------------+-------------+\n",
      "|Violation_Code|no_of_tickets|\n",
      "+--------------+-------------+\n",
      "|            21|       767740|\n",
      "|            36|       662765|\n",
      "|            38|       541526|\n",
      "|            14|       476405|\n",
      "|            20|       319439|\n",
      "|            46|       312168|\n",
      "|            37|       293038|\n",
      "|            40|       276905|\n",
      "|            71|       263124|\n",
      "|             7|       210176|\n",
      "|            19|       148978|\n",
      "|            70|       144242|\n",
      "|            69|        96881|\n",
      "|            31|        80528|\n",
      "|            16|        74768|\n",
      "|            47|        65427|\n",
      "|            74|        57388|\n",
      "|            50|        53710|\n",
      "|             5|        48081|\n",
      "|            48|        40970|\n",
      "|            84|        40932|\n",
      "|            24|        38435|\n",
      "|            17|        38430|\n",
      "|            51|        32553|\n",
      "|            42|        32000|\n",
      "|             9|        28670|\n",
      "|            78|        26752|\n",
      "|            10|        25917|\n",
      "|            68|        25029|\n",
      "|            98|        23883|\n",
      "|            53|        19478|\n",
      "|            82|        17284|\n",
      "|            66|        13115|\n",
      "|            13|        11667|\n",
      "|            18|        10185|\n",
      "|            23|         9689|\n",
      "|            85|         9311|\n",
      "|            67|         7359|\n",
      "|            64|         6764|\n",
      "|            45|         6101|\n",
      "|            77|         6080|\n",
      "|            11|         5590|\n",
      "|            61|         5520|\n",
      "|            72|         5516|\n",
      "|            79|         5203|\n",
      "|            83|         5060|\n",
      "|            75|         4334|\n",
      "|            60|         3690|\n",
      "|            27|         3037|\n",
      "|            62|         2809|\n",
      "|            41|         2608|\n",
      "|            89|         2325|\n",
      "|            73|         2080|\n",
      "|            80|         2074|\n",
      "|            35|         2033|\n",
      "|             8|         1405|\n",
      "|            99|         1364|\n",
      "|            39|         1177|\n",
      "|            52|         1001|\n",
      "|             1|          674|\n",
      "|            26|          660|\n",
      "|            30|          553|\n",
      "|             4|          521|\n",
      "|            49|          477|\n",
      "|             3|          407|\n",
      "|            91|          401|\n",
      "|            56|          366|\n",
      "|            63|          245|\n",
      "|            94|          199|\n",
      "|             6|          190|\n",
      "|            43|          174|\n",
      "|            59|          132|\n",
      "|            25|          115|\n",
      "|             0|          103|\n",
      "|            55|           88|\n",
      "|            95|           87|\n",
      "|            22|           81|\n",
      "|             2|           77|\n",
      "|            12|           53|\n",
      "|            97|           47|\n",
      "|            96|           41|\n",
      "|            29|           35|\n",
      "|            33|           28|\n",
      "|            90|           26|\n",
      "|            65|           24|\n",
      "|            92|           19|\n",
      "|            76|           16|\n",
      "|            81|           14|\n",
      "|            32|           14|\n",
      "|            58|           13|\n",
      "|            34|           11|\n",
      "|            88|           10|\n",
      "|            93|            8|\n",
      "|            15|            7|\n",
      "|            86|            6|\n",
      "|            28|            5|\n",
      "|            44|            4|\n",
      "|            54|            3|\n",
      "|            57|            3|\n",
      "|            87|            1|\n",
      "+--------------+-------------+\n",
      "\n"
     ]
    }
   ],
   "source": [
    "# Frequency of each violation code occurs\n",
    "Violation_Code_count = parking_bhs.select(\"Violation_Code\")\\\n",
    "  .groupBy(\"Violation_Code\")\\\n",
    ".agg(count(\"Violation_Code\")\\\n",
    ".alias(\"no_of_tickets\"))\\\n",
    ".sort(desc(\"no_of_tickets\"))\n",
    "\n",
    "Violation_Code_count.show(100)"
   ]
  },
  {
   "cell_type": "code",
   "execution_count": 42,
   "metadata": {},
   "outputs": [
    {
     "name": "stdout",
     "output_type": "stream",
     "text": [
      "+--------------+----------------+\n",
      "|Violation_Code|Ticket_Frequency|\n",
      "+--------------+----------------+\n",
      "|            21|          767740|\n",
      "|            36|          662765|\n",
      "|            38|          541526|\n",
      "|            14|          476405|\n",
      "|            20|          319439|\n",
      "+--------------+----------------+\n",
      "only showing top 5 rows\n",
      "\n"
     ]
    }
   ],
   "source": [
    "# Top 5 Violation code\n",
    "top5_Violation_Code = spark.sql(\"SELECT Violation_Code, Count(*) as Ticket_Frequency from parking_bhs_2017 group by Violation_code order by Ticket_Frequency desc\")\n",
    "top5_Violation_Code.show(5)"
   ]
  },
  {
   "cell_type": "code",
   "execution_count": 43,
   "metadata": {},
   "outputs": [
    {
     "data": {
      "text/plain": [
       "<Figure size 432x288 with 0 Axes>"
      ]
     },
     "metadata": {},
     "output_type": "display_data"
    },
    {
     "data": {
      "image/png": "[encoded data removed]",
      "text/plain": [
       "<Figure size 432x288 with 1 Axes>"
      ]
     },
     "metadata": {},
     "output_type": "display_data"
    }
   ],
   "source": [
    "# Top 5 Violation code\n",
    "top5_Violation_Code_for_plot = top5_Violation_Code.toPandas()\n",
    "plt.clf()\n",
    "top5_Violation_Code_for_plot.head(5).plot(x='Violation_Code', y='Ticket_Frequency', kind='bar')\n",
    "plt.title(\"Top Violation Code\")\n",
    "plt.xlabel('Violation Code')\n",
    "plt.ylabel('Ticket Frequency')\n",
    "plt.show()"
   ]
  },
  {
   "cell_type": "markdown",
   "metadata": {},
   "source": [
    "#### Q2. How often does each 'vehicle body type' get a parking ticket? How about the 'vehicle make'? \n",
    "##### (Hint: Find the top 5 for both.)"
   ]
  },
  {
   "cell_type": "code",
   "execution_count": 44,
   "metadata": {},
   "outputs": [
    {
     "name": "stdout",
     "output_type": "stream",
     "text": [
      "+-----------------+----------------+\n",
      "|Vehicle_Body_Type|Ticket_Frequency|\n",
      "+-----------------+----------------+\n",
      "|             SUBN|         1882978|\n",
      "|             4DSD|         1547063|\n",
      "|              VAN|          723796|\n",
      "|             DELV|          358924|\n",
      "|              SDN|          192927|\n",
      "+-----------------+----------------+\n",
      "only showing top 5 rows\n",
      "\n"
     ]
    }
   ],
   "source": [
    "# Each vehicle body type get a parking ticket\n",
    "vehicleBodyType = spark.sql(\"SELECT Vehicle_Body_Type, count(*) as Ticket_Frequency from parking_bhs_2017 group by Vehicle_Body_Type order by Ticket_Frequency desc\")\n",
    "vehicleBodyType.show(5)"
   ]
  },
  {
   "cell_type": "code",
   "execution_count": 45,
   "metadata": {},
   "outputs": [
    {
     "name": "stdout",
     "output_type": "stream",
     "text": [
      "+------------+----------------+\n",
      "|Vehicle_Make|Ticket_Frequency|\n",
      "+------------+----------------+\n",
      "|        FORD|          636527|\n",
      "|       TOYOT|          605011|\n",
      "|       HONDA|          538460|\n",
      "|       NISSA|          461725|\n",
      "|       CHEVR|          355868|\n",
      "+------------+----------------+\n",
      "only showing top 5 rows\n",
      "\n"
     ]
    }
   ],
   "source": [
    "vehicleMake = spark.sql(\"SELECT Vehicle_Make, count(*) as Ticket_Frequency from parking_bhs_2017 group by Vehicle_Make order by Ticket_Frequency desc\")\n",
    "vehicleMake.show(5)"
   ]
  },
  {
   "cell_type": "markdown",
   "metadata": {},
   "source": [
    "#### Q3 :  A precinct is a police station that has a certain zone of the city under its command.Find the (5 highest) frequency of tickets for each of the following:\n"
   ]
  },
  {
   "cell_type": "markdown",
   "metadata": {},
   "source": [
    "###### 1.'Violation Precinct' (this is the precinct of the zone where the violation occurred). Using this, can you make any insights for parking violations in any specific areas of the city?"
   ]
  },
  {
   "cell_type": "code",
   "execution_count": 46,
   "metadata": {},
   "outputs": [
    {
     "name": "stdout",
     "output_type": "stream",
     "text": [
      "+------------------+----------------+\n",
      "|Violation_Precinct|Ticket_Frequency|\n",
      "+------------------+----------------+\n",
      "|                 0|          925395|\n",
      "|                19|          274264|\n",
      "|                14|          203375|\n",
      "|                 1|          174620|\n",
      "|                18|          169043|\n",
      "|               114|          147223|\n",
      "+------------------+----------------+\n",
      "only showing top 6 rows\n",
      "\n"
     ]
    }
   ],
   "source": [
    "Violation_Precinct = spark.sql(\"SELECT Violation_Precinct, count(*) as Ticket_Frequency from parking_bhs_2017 group by Violation_Precinct order by Ticket_Frequency desc\")\n",
    "Violation_Precinct.show(6)"
   ]
  },
  {
   "cell_type": "markdown",
   "metadata": {},
   "source": [
    "##### Here, The dataframe has the'Violating Precinct' as '0' for few entries. These are erroneous entries. Hence, you need to provide the records for five correct precincts. (Hint: Print the top six entries after sorting.)"
   ]
  },
  {
   "cell_type": "code",
   "execution_count": 47,
   "metadata": {},
   "outputs": [
    {
     "data": {
      "text/plain": [
       "<Figure size 432x288 with 0 Axes>"
      ]
     },
     "metadata": {},
     "output_type": "display_data"
    },
    {
     "data": {
      "image/png": "[encoded data removed]",
      "text/plain": [
       "<Figure size 432x288 with 1 Axes>"
      ]
     },
     "metadata": {},
     "output_type": "display_data"
    }
   ],
   "source": [
    "# plot Violations on the basis of Violation_Precinct\n",
    "Violation_Precinct_for_plot = Violation_Precinct.toPandas()\n",
    "plt.clf()\n",
    "Violation_Precinct_for_plot[Violation_Precinct_for_plot.Violation_Precinct!=0].head(5).plot(x='Violation_Precinct', y='Ticket_Frequency', kind='bar')\n",
    "plt.title(\"Violations on the basis of Violation_Precinct\")\n",
    "plt.xlabel('Vehicle Precinct')\n",
    "plt.ylabel('Ticket Frequency')\n",
    "plt.show()"
   ]
  },
  {
   "cell_type": "markdown",
   "metadata": {},
   "source": [
    "#### 2 'Issuer Precinct' (this is the precinct that issued the ticket)"
   ]
  },
  {
   "cell_type": "code",
   "execution_count": 48,
   "metadata": {},
   "outputs": [
    {
     "name": "stdout",
     "output_type": "stream",
     "text": [
      "+---------------+----------------+\n",
      "|Issuer_Precinct|Ticket_Frequency|\n",
      "+---------------+----------------+\n",
      "|              0|         1077884|\n",
      "|             19|          266790|\n",
      "|             14|          200328|\n",
      "|              1|          168630|\n",
      "|             18|          162908|\n",
      "+---------------+----------------+\n",
      "only showing top 5 rows\n",
      "\n"
     ]
    }
   ],
   "source": [
    "Issue_precinct = spark.sql(\"SELECT Issuer_Precinct, count(*) as Ticket_Frequency from parking_bhs_2017 group by Issuer_Precinct order by Ticket_Frequency desc\")  \n",
    "Issue_precinct.show(5)"
   ]
  },
  {
   "cell_type": "markdown",
   "metadata": {},
   "source": [
    "##### Here, The dataframe has the'Violating Precinct' as '0' for few entries.  These are erroneous entries. Hence, you need to provide the records for five correct precincts. (Hint: Print the top six entries after sorting.)"
   ]
  },
  {
   "cell_type": "code",
   "execution_count": 49,
   "metadata": {},
   "outputs": [
    {
     "data": {
      "text/plain": [
       "<Figure size 432x288 with 0 Axes>"
      ]
     },
     "metadata": {},
     "output_type": "display_data"
    },
    {
     "data": {
      "image/png": "[encoded data removed]",
      "text/plain": [
       "<Figure size 432x288 with 1 Axes>"
      ]
     },
     "metadata": {},
     "output_type": "display_data"
    }
   ],
   "source": [
    "# plot Violations on the basis of Issue_Precinct\n",
    "Issue_Precinct_for_plot = Issue_precinct.toPandas()\n",
    "plt.clf()\n",
    "Issue_Precinct_for_plot[Issue_Precinct_for_plot.Issuer_Precinct!=0].head(5).plot(x='Issuer_Precinct', y='Ticket_Frequency', kind='bar')\n",
    "plt.title(\"Violations on the basis of Issuer Precinct TOP 5\")\n",
    "plt.xlabel('Issuer Precinct')\n",
    "plt.ylabel('Ticket Frequency')\n",
    "plt.show()"
   ]
  },
  {
   "cell_type": "markdown",
   "metadata": {},
   "source": [
    "* So the top 5 area where most violation occurs are 19, 14, 1, 18 and  114.\n",
    "Similarily,  the top 5 Issuer Precient are 19, 14, 1, 18 and  114."
   ]
  },
  {
   "cell_type": "markdown",
   "metadata": {},
   "source": [
    "#### Q4. Find the violation code frequency across three precincts which have issued the most number of tickets.Do these precinct zones have an exceptionally high frequency of certain violation codes? Are these codes common across precincts?\n",
    "Hint: In the SQL view, use the 'where' attribute to filter among three precincts."
   ]
  },
  {
   "cell_type": "markdown",
   "metadata": {},
   "source": [
    "##### 4.1 Finding violation code frequency"
   ]
  },
  {
   "cell_type": "code",
   "execution_count": 50,
   "metadata": {},
   "outputs": [
    {
     "name": "stdout",
     "output_type": "stream",
     "text": [
      "+---------------+--------------+---------+\n",
      "|Issuer_Precinct|Violation_Code|Frequency|\n",
      "+---------------+--------------+---------+\n",
      "|              0|            36|   662765|\n",
      "|              0|             7|   210175|\n",
      "|              0|            21|   125923|\n",
      "|             18|            14|    50135|\n",
      "|             19|            46|    48422|\n",
      "|              0|             5|    48076|\n",
      "|             14|            14|    45019|\n",
      "+---------------+--------------+---------+\n",
      "only showing top 7 rows\n",
      "\n"
     ]
    }
   ],
   "source": [
    "violation_code_frequency = spark.sql(\"select Issuer_Precinct,Violation_Code, count(*) as Frequency from parking_bhs_2017 group by Issuer_Precinct, Violation_Code order by Frequency desc\" )\n",
    "violation_code_frequency.show(7)"
   ]
  },
  {
   "cell_type": "markdown",
   "metadata": {},
   "source": [
    "##### Answer: Since '0' need not considered,  18,19,14 are the three issuer precincts with maximum number of violations."
   ]
  },
  {
   "cell_type": "code",
   "execution_count": 51,
   "metadata": {},
   "outputs": [
    {
     "name": "stdout",
     "output_type": "stream",
     "text": [
      "+--------------+---------+\n",
      "|Violation_Code|Frequency|\n",
      "+--------------+---------+\n",
      "|            14|    50135|\n",
      "|            69|    20188|\n",
      "|            47|    14105|\n",
      "|            31|    11887|\n",
      "|            46|     7861|\n",
      "|            42|     6189|\n",
      "|            38|     6157|\n",
      "|            84|     5188|\n",
      "|            19|     4580|\n",
      "|            20|     4109|\n",
      "+--------------+---------+\n",
      "only showing top 10 rows\n",
      "\n"
     ]
    }
   ],
   "source": [
    "# Issuer Precinct 18\n",
    "violation_code_frequency_18 = spark.sql(\"select Violation_Code, count(*) as Frequency from parking_bhs_2017 where Issuer_Precinct=18 group by Violation_Code order by Frequency desc\" )\n",
    "violation_code_frequency_18.show(10)"
   ]
  },
  {
   "cell_type": "code",
   "execution_count": 52,
   "metadata": {},
   "outputs": [
    {
     "name": "stdout",
     "output_type": "stream",
     "text": [
      "+--------------+---------+\n",
      "|Violation_Code|Frequency|\n",
      "+--------------+---------+\n",
      "|            46|    48422|\n",
      "|            38|    36332|\n",
      "|            37|    36046|\n",
      "|            14|    29791|\n",
      "|            21|    28409|\n",
      "|            20|    14624|\n",
      "|            40|    11408|\n",
      "|            16|     9921|\n",
      "|            71|     7489|\n",
      "|            19|     6854|\n",
      "+--------------+---------+\n",
      "only showing top 10 rows\n",
      "\n"
     ]
    }
   ],
   "source": [
    "violation_code_frequency_19 = spark.sql(\"select Violation_Code, count(*) as Frequency from parking_bhs_2017 where Issuer_Precinct=19 group by Violation_Code order by Frequency desc\" )\n",
    "violation_code_frequency_19.show(10)"
   ]
  },
  {
   "cell_type": "code",
   "execution_count": 53,
   "metadata": {},
   "outputs": [
    {
     "name": "stdout",
     "output_type": "stream",
     "text": [
      "+--------------+---------+\n",
      "|Violation_Code|Frequency|\n",
      "+--------------+---------+\n",
      "|            14|    45019|\n",
      "|            69|    30453|\n",
      "|            31|    22528|\n",
      "|            47|    18357|\n",
      "|            42|    10022|\n",
      "|            46|     7675|\n",
      "|            19|     7031|\n",
      "|            84|     6739|\n",
      "|            82|     5052|\n",
      "|            40|     3581|\n",
      "+--------------+---------+\n",
      "only showing top 10 rows\n",
      "\n"
     ]
    }
   ],
   "source": [
    "# Issuer Precinct 14\n",
    "violation_code_frequency_14 = spark.sql(\"select Violation_Code, count(*) as Frequency from parking_bhs_2017 where Issuer_Precinct=14 group by Violation_Code order by Frequency desc\" )\n",
    "violation_code_frequency_14.show(10)"
   ]
  },
  {
   "cell_type": "code",
   "execution_count": 54,
   "metadata": {},
   "outputs": [
    {
     "name": "stdout",
     "output_type": "stream",
     "text": [
      "+--------------+---------+\n",
      "|Violation_Code|Frequency|\n",
      "+--------------+---------+\n",
      "|            14|   124945|\n",
      "|            46|    63958|\n",
      "|            69|    53549|\n",
      "|            38|    45721|\n",
      "|            37|    39537|\n",
      "+--------------+---------+\n",
      "only showing top 5 rows\n",
      "\n"
     ]
    }
   ],
   "source": [
    "#Are these codes common across precincts\n",
    "common_violation_codes =spark.sql(\"select Violation_Code, count(*) as Frequency from parking_bhs_2017 where Issuer_Precinct in (18,19,14) group by Violation_Code order by Frequency desc\")\n",
    "common_violation_codes.show(5)"
   ]
  },
  {
   "cell_type": "markdown",
   "metadata": {},
   "source": [
    "###### From the above data, we can conclude the following    \n",
    "     1) Precinct 18 and Precinct 14 has more less similar top violation code.    \n",
    "     2) Precinct 19 has very different top violation code."
   ]
  },
  {
   "cell_type": "markdown",
   "metadata": {},
   "source": [
    "#### Q5.Find out the properties of parking violations across different times of the day:"
   ]
  },
  {
   "cell_type": "markdown",
   "metadata": {},
   "source": [
    "o\tFind a way to deal with missing values, if any.   \n",
    "##### (Hint: Check for the null values using 'isNull' under the SQL. Also, to remove the null values, check the 'dropna' command in the API documentation.)    \n",
    "o\tThe Violation Time field is specified in a strange format. Find a way to make this a time attribute that you can use to divide into groups.   \n",
    "o\tDivide 24 hours into six equal discrete bins of time. Choose the intervals as you see fit. For each of these groups, find the three most commonly occurring violations.   \n",
    "##### (Hint: Use the CASE-WHEN in SQL view to segregate into bins. To find the most commonly occurring violations, you can use an approach similar to the one mentioned in the hint for question 4.)    \n",
    "o\tNow, try another direction. For the three most commonly occurring violation codes, find the most common time of the day (in terms of the bins from the previous part).\n"
   ]
  },
  {
   "cell_type": "code",
   "execution_count": 55,
   "metadata": {},
   "outputs": [
    {
     "name": "stdout",
     "output_type": "stream",
     "text": [
      "+------------------+\n",
      "|No_of_Count_Values|\n",
      "+------------------+\n",
      "|                 0|\n",
      "+------------------+\n",
      "\n"
     ]
    }
   ],
   "source": [
    "# Number of missing values\n",
    "Violation_Time_Missing_2017 = spark.sql(\"SELECT count(*) as No_of_Count_Values from parking_bhs_2017 WHERE Violation_Time is NULL\")\n",
    "Violation_Time_Missing_2017.show()"
   ]
  },
  {
   "cell_type": "code",
   "execution_count": 56,
   "metadata": {},
   "outputs": [
    {
     "name": "stdout",
     "output_type": "stream",
     "text": [
      "+--------------+--------+------------------+----------+--------------+-----------------+------------+------------------+---------------+--------------+\n",
      "|Summons_Number|Plate_ID|Registration_State|Issue_Date|Violation_Code|Vehicle_Body_Type|Vehicle_Make|Violation_Precinct|Issuer_Precinct|Violation_Time|\n",
      "+--------------+--------+------------------+----------+--------------+-----------------+------------+------------------+---------------+--------------+\n",
      "+--------------+--------+------------------+----------+--------------+-----------------+------------+------------------+---------------+--------------+\n",
      "\n"
     ]
    }
   ],
   "source": [
    "#Checking for the null value\n",
    "from pyspark.sql.functions import col\n",
    "parking_bhs.where(col(\"Violation_Time\").isNull()).show()"
   ]
  },
  {
   "cell_type": "code",
   "execution_count": 57,
   "metadata": {},
   "outputs": [
    {
     "name": "stdout",
     "output_type": "stream",
     "text": [
      "+--------------+\n",
      "|Violation_Time|\n",
      "+--------------+\n",
      "|         0148P|\n",
      "|         1044A|\n",
      "|         0515P|\n",
      "|         1007A|\n",
      "|         0202A|\n",
      "|         0743A|\n",
      "|         0825A|\n",
      "|         0938A|\n",
      "|         1202P|\n",
      "|         0159P|\n",
      "|         0236A|\n",
      "|         1258P|\n",
      "|         1041A|\n",
      "|         0748A|\n",
      "|         0639A|\n",
      "|         1005A|\n",
      "|         0959A|\n",
      "|         0244P|\n",
      "|         0611A|\n",
      "|         1044A|\n",
      "+--------------+\n",
      "only showing top 20 rows\n",
      "\n"
     ]
    }
   ],
   "source": [
    "parking_bhs.select('Violation_Time').show()"
   ]
  },
  {
   "cell_type": "code",
   "execution_count": 60,
   "metadata": {},
   "outputs": [
    {
     "name": "stdout",
     "output_type": "stream",
     "text": [
      "+--------------+--------------+--------------+---------------+------------------+\n",
      "|Summons_Number|Violation_Code|Violation_Time|Issuer_Precinct|Violation_Time_bin|\n",
      "+--------------+--------------+--------------+---------------+------------------+\n",
      "|    8523552492|            38|         1055A|             52|                 3|\n",
      "|    8539069866|            21|         1206P|             94|                 4|\n",
      "|    8486072323|            14|         1029A|             14|                 3|\n",
      "|    8566105485|            78|         0938P|            107|                 6|\n",
      "|    8515117083|            21|         0915A|             30|                 3|\n",
      "|    8506703712|            20|         0830A|              5|                 3|\n",
      "|    8443544983|            14|         1234P|             66|                 4|\n",
      "|    8566302783|            85|         0257A|            104|                 1|\n",
      "|    8537963938|            21|         1005A|             94|                 3|\n",
      "|    1419675813|            41|         0105A|              0|                 1|\n",
      "|    8526268983|            48|         0259P|             48|                 4|\n",
      "|    8497254818|            19|         0253P|             14|                 4|\n",
      "|    1422373186|            21|         1005A|              0|                 3|\n",
      "|    4007230225|             5|         1049A|              0|                 3|\n",
      "|    8561505680|            38|         0526P|            104|                 5|\n",
      "|    4635378421|            36|         1138A|              0|                 3|\n",
      "|    1420311281|            67|         0752P|             49|                 5|\n",
      "|    8487472930|            46|         0152P|            108|                 4|\n",
      "|    4630308581|            36|         0820A|              0|                 3|\n",
      "|    8532468007|            21|         0034A|              7|                 1|\n",
      "+--------------+--------------+--------------+---------------+------------------+\n",
      "only showing top 20 rows\n",
      "\n"
     ]
    }
   ],
   "source": [
    "# Divide 24 hours into six equal discrete bins of time\n",
    "time_bins=spark.sql(\"SELECT Summons_Number, Violation_Code , Violation_Time, Issuer_Precinct, case when substring(Violation_Time,1,2) in ('00','01','02','03','12') and upper(substring(Violation_Time,-1))='A' then 1 when substring(Violation_Time,1,2) in ('04','05','06','07') and upper(substring(Violation_Time,-1))='A' then 2 when substring(Violation_Time,1,2) in ('08','09','10','11') and upper(substring(Violation_Time,-1))='A' then 3 when substring(Violation_Time,1,2) in ('12','00','01','02','03') and upper(substring(Violation_Time,-1))='P' then 4 when substring(Violation_Time,1,2) in ('04','05','06','07') and upper(substring(Violation_Time,-1))='P' then 5 when substring(Violation_Time,1,2) in ('08','09','10','11') and upper(substring(Violation_Time,-1))='P' then 6 else null end as Violation_Time_bin from parking_bhs_2017 where Violation_Time is not null or (length(Violation_Time)=5 and upper(substring(Violation_Time,-1)) in ('A','P') and substring(Violation_Time,1,2) in ('00','01','02','03','04','05','06','07', '08','09','10','11','12'))\")\n",
    "time_bins.show()              "
   ]
  },
  {
   "cell_type": "markdown",
   "metadata": {},
   "source": [
    "#### Bins Details\n",
    "\n",
    "    Bin       Time Interval\n",
    "    1         12:00 AM to 4:00 AM\n",
    "    2         4:00 AM to 8:00 AM\n",
    "    3         8:00 AM to 12:00 PM\n",
    "    4         12:00 PM to 4:00 PM\n",
    "    5         4:00 PM to 8:00 PM\n",
    "    6         8:00 PM to 12:00 AM"
   ]
  },
  {
   "cell_type": "code",
   "execution_count": 61,
   "metadata": {},
   "outputs": [],
   "source": [
    "time_bins.createOrReplaceTempView(\"bins_table\")"
   ]
  },
  {
   "cell_type": "code",
   "execution_count": 62,
   "metadata": {},
   "outputs": [
    {
     "name": "stdout",
     "output_type": "stream",
     "text": [
      "+--------------+------------------+------+\n",
      "|Violation_Code|Violation_Time_bin| count|\n",
      "+--------------+------------------+------+\n",
      "|            71|                 4|103156|\n",
      "|            92|                 2|     1|\n",
      "|            41|                 3|   950|\n",
      "|            10|                 2|  3164|\n",
      "|            48|                 6|   620|\n",
      "|            62|                 1|   278|\n",
      "|            23|                 6|   691|\n",
      "|            69|                 1|     1|\n",
      "|            17|                 2|  4277|\n",
      "|            16|                 3| 28163|\n",
      "|            17|                 1|   995|\n",
      "|            83|                 6|   251|\n",
      "|            91|                 6|    33|\n",
      "|            34|                 5|     1|\n",
      "|            73|                 4|   738|\n",
      "|            45|                 4|  1223|\n",
      "|            79|                 1|    21|\n",
      "|            58|                 1|     3|\n",
      "|             6|                 1|    86|\n",
      "|            80|                 3|   887|\n",
      "+--------------+------------------+------+\n",
      "only showing top 20 rows\n",
      "\n"
     ]
    }
   ],
   "source": [
    "# violation code time count\n",
    "violation_code_time_count = spark.sql(\"SELECT Violation_Code,Violation_Time_bin, count(*) count from bins_table group by Violation_Code,Violation_Time_bin\")\n",
    "violation_code_time_count.show()"
   ]
  },
  {
   "cell_type": "code",
   "execution_count": 63,
   "metadata": {},
   "outputs": [
    {
     "name": "stdout",
     "output_type": "stream",
     "text": [
      "+--------------+-------+\n",
      "|Violation_Code|Vio_cnt|\n",
      "+--------------+-------+\n",
      "|            21|  36934|\n",
      "|            40|  25810|\n",
      "|            78|  15513|\n",
      "+--------------+-------+\n",
      "only showing top 3 rows\n",
      "\n"
     ]
    }
   ],
   "source": [
    "bin1 = spark.sql(\"select Violation_Code,count(*) Vio_cnt from bins_table where Violation_Time_bin == 1 group by Violation_Code order by Vio_cnt desc\")\n",
    "bin1.show(3)"
   ]
  },
  {
   "cell_type": "code",
   "execution_count": 64,
   "metadata": {},
   "outputs": [
    {
     "name": "stdout",
     "output_type": "stream",
     "text": [
      "+--------------+-------+\n",
      "|Violation_Code|Vio_cnt|\n",
      "+--------------+-------+\n",
      "|            14|  74095|\n",
      "|            40|  60609|\n",
      "|            21|  57876|\n",
      "+--------------+-------+\n",
      "only showing top 3 rows\n",
      "\n"
     ]
    }
   ],
   "source": [
    "bin2 = spark.sql(\"select Violation_Code,count(*) Vio_cnt from bins_table where Violation_Time_bin == 2 group by Violation_Code order by Vio_cnt desc\")\n",
    "bin2.show(3)"
   ]
  },
  {
   "cell_type": "code",
   "execution_count": 65,
   "metadata": {},
   "outputs": [
    {
     "name": "stdout",
     "output_type": "stream",
     "text": [
      "+--------------+-------+\n",
      "|Violation_Code|Vio_cnt|\n",
      "+--------------+-------+\n",
      "|            21| 597827|\n",
      "|            36| 348165|\n",
      "|            38| 176310|\n",
      "+--------------+-------+\n",
      "only showing top 3 rows\n",
      "\n"
     ]
    }
   ],
   "source": [
    "bin3 = spark.sql(\"select Violation_Code,count(*) Vio_cnt from bins_table where Violation_Time_bin == 3 group by Violation_Code order by Vio_cnt desc\")\n",
    "bin3.show(3)"
   ]
  },
  {
   "cell_type": "code",
   "execution_count": 67,
   "metadata": {},
   "outputs": [
    {
     "name": "stdout",
     "output_type": "stream",
     "text": [
      "+--------------+-------+\n",
      "|Violation_Code|Vio_cnt|\n",
      "+--------------+-------+\n",
      "|            36| 286284|\n",
      "|            38| 240511|\n",
      "|            37| 166969|\n",
      "+--------------+-------+\n",
      "only showing top 3 rows\n",
      "\n"
     ]
    }
   ],
   "source": [
    "bin4 = spark.sql(\"select Violation_Code,count(*) Vio_cnt from bins_table where Violation_Time_bin == 4 group by Violation_Code order by Vio_cnt desc\")\n",
    "bin4.show(3)"
   ]
  },
  {
   "cell_type": "code",
   "execution_count": 68,
   "metadata": {},
   "outputs": [
    {
     "name": "stdout",
     "output_type": "stream",
     "text": [
      "+--------------+-------+\n",
      "|Violation_Code|Vio_cnt|\n",
      "+--------------+-------+\n",
      "|            38| 102784|\n",
      "|            14|  75856|\n",
      "|            37|  70317|\n",
      "+--------------+-------+\n",
      "only showing top 3 rows\n",
      "\n"
     ]
    }
   ],
   "source": [
    "bin5 = spark.sql(\"select Violation_Code,count(*) Vio_cnt from bins_table where Violation_Time_bin == 5 group by Violation_Code order by Vio_cnt desc\")\n",
    "bin5.show(3)"
   ]
  },
  {
   "cell_type": "code",
   "execution_count": 70,
   "metadata": {},
   "outputs": [
    {
     "name": "stdout",
     "output_type": "stream",
     "text": [
      "+--------------+-------+\n",
      "|Violation_Code|Vio_cnt|\n",
      "+--------------+-------+\n",
      "|             7|  26293|\n",
      "|            40|  22301|\n",
      "|            14|  21026|\n",
      "+--------------+-------+\n",
      "only showing top 3 rows\n",
      "\n"
     ]
    }
   ],
   "source": [
    "bin6 = spark.sql(\"select Violation_Code,count(*) Vio_cnt from bins_table where Violation_Time_bin == 6 group by Violation_Code order by Vio_cnt desc\")\n",
    "bin6.show(3)"
   ]
  },
  {
   "cell_type": "markdown",
   "metadata": {},
   "source": [
    "**Now, try another direction. For the three most commonly occurring violation codes, find the most common time of the day (in terms of the bins from the previous part).**"
   ]
  },
  {
   "cell_type": "code",
   "execution_count": 71,
   "metadata": {},
   "outputs": [
    {
     "name": "stdout",
     "output_type": "stream",
     "text": [
      "+------------------+---------------+\n",
      "|Violation_Time_bin|Violation_count|\n",
      "+------------------+---------------+\n",
      "|                 3|        1122302|\n",
      "|                 4|         601432|\n",
      "|                 5|         116574|\n",
      "+------------------+---------------+\n",
      "only showing top 3 rows\n",
      "\n"
     ]
    }
   ],
   "source": [
    "time_bin = spark.sql(\"select Violation_Time_bin, count(*) Violation_count from bins_table where Violation_Code in (21, 36, 38) group by Violation_Time_bin order by Violation_count desc\")\n",
    "time_bin.show(3)"
   ]
  },
  {
   "cell_type": "markdown",
   "metadata": {},
   "source": [
    "**Bins 3, 4, 5 are having most violations**   \n",
    "The time is from 8:00 AM to 8:00 PM i.e., during Day time more vehicles were running and hence more violations.\n"
   ]
  },
  {
   "cell_type": "markdown",
   "metadata": {},
   "source": [
    "#### Q6.Let’s try and find some seasonality in this data:"
   ]
  },
  {
   "cell_type": "markdown",
   "metadata": {},
   "source": [
    "##### 1) First, divide the year into some number of seasons,and find frequencies of tickets for each season."
   ]
  },
  {
   "cell_type": "code",
   "execution_count": 72,
   "metadata": {},
   "outputs": [
    {
     "name": "stdout",
     "output_type": "stream",
     "text": [
      "+--------------+---------------+------+\n",
      "|Violation_Code|Issuer_Precinct|season|\n",
      "+--------------+---------------+------+\n",
      "|            36|              0|summer|\n",
      "|            36|              0|summer|\n",
      "|            48|             78|spring|\n",
      "|            71|             72|spring|\n",
      "|            14|            112|spring|\n",
      "|            71|             67|summer|\n",
      "|            42|              1|winter|\n",
      "|            14|             63|winter|\n",
      "|            36|              0|spring|\n",
      "|            46|             71|summer|\n",
      "|            71|             66|winter|\n",
      "|            14|             84|summer|\n",
      "|            40|             23|spring|\n",
      "|            37|            977|spring|\n",
      "|            20|            114|spring|\n",
      "|            31|             13|summer|\n",
      "|            21|             42|spring|\n",
      "|             7|              0|spring|\n",
      "|            37|             19|winter|\n",
      "|            37|            106|spring|\n",
      "+--------------+---------------+------+\n",
      "only showing top 20 rows\n",
      "\n"
     ]
    }
   ],
   "source": [
    "Seasons = spark.sql(\"select Violation_Code , Issuer_Precinct, case when MONTH(TO_DATE(Issue_Date, 'MM/dd/yyyy')) between 03 and 05 then 'spring' when MONTH(TO_DATE(Issue_Date, 'MM/dd/yyyy')) between 06 and 08 then 'summer' when MONTH(TO_DATE(Issue_Date, 'MM/dd/yyyy')) between 09 and 11 then 'autumn' when MONTH(TO_DATE(Issue_Date, 'MM/dd/yyyy')) in (1,2,12) then 'winter' else 'unknown' end  as season from parking_bhs_2017\")\n",
    "Seasons.show()"
   ]
  },
  {
   "cell_type": "markdown",
   "metadata": {},
   "source": [
    "    Season    Month intervall\n",
    "    \n",
    "    spring    March, April, May\n",
    "    summer    June, July, August\n",
    "    autumn    September, October, November\n",
    "    winter    December, January, February"
   ]
  },
  {
   "cell_type": "code",
   "execution_count": 73,
   "metadata": {},
   "outputs": [],
   "source": [
    "Seasons.createOrReplaceTempView(\"Seasons_table\")"
   ]
  },
  {
   "cell_type": "code",
   "execution_count": 74,
   "metadata": {},
   "outputs": [
    {
     "name": "stdout",
     "output_type": "stream",
     "text": [
      "+------+-------------+\n",
      "|season|no_of_tickets|\n",
      "+------+-------------+\n",
      "|spring|      2870491|\n",
      "|winter|      1702786|\n",
      "|summer|       852405|\n",
      "|autumn|          975|\n",
      "+------+-------------+\n",
      "\n"
     ]
    }
   ],
   "source": [
    "# Find out the violations in each Seasons\n",
    "tickets_seasonality_freq = spark.sql(\"select season, count(*) as no_of_tickets from Seasons_table group by 1 order by 2 desc\")\n",
    "tickets_seasonality_freq.show()"
   ]
  },
  {
   "cell_type": "code",
   "execution_count": 75,
   "metadata": {},
   "outputs": [
    {
     "name": "stdout",
     "output_type": "stream",
     "text": [
      "+--------------+---------+\n",
      "|Violation_Code|Frequency|\n",
      "+--------------+---------+\n",
      "|            14|    61633|\n",
      "|            46|    37732|\n",
      "|            38|    25511|\n",
      "+--------------+---------+\n",
      "only showing top 3 rows\n",
      "\n"
     ]
    }
   ],
   "source": [
    "# Violations in Spring season\n",
    "violations_in_spring = spark.sql(\"select Violation_Code, count(*) as Frequency from Seasons_table where Issuer_Precinct in (19, 14, 1) and season = 'spring' group by Violation_Code order by Frequency desc\" )\n",
    "violations_in_spring.show(3)"
   ]
  },
  {
   "cell_type": "code",
   "execution_count": 76,
   "metadata": {},
   "outputs": [
    {
     "name": "stdout",
     "output_type": "stream",
     "text": [
      "+--------------+---------+\n",
      "|Violation_Code|Frequency|\n",
      "+--------------+---------+\n",
      "|            14|    32824|\n",
      "|            46|    20148|\n",
      "|            38|    14885|\n",
      "+--------------+---------+\n",
      "only showing top 3 rows\n",
      "\n"
     ]
    }
   ],
   "source": [
    "# Violations in Winter season\n",
    "violations_in_winter = spark.sql(\"select Violation_Code, count(*) as Frequency from Seasons_table where Issuer_Precinct in (19, 14, 1) and season = 'winter' group by Violation_Code order by Frequency desc\" )\n",
    "violations_in_winter.show(3)"
   ]
  },
  {
   "cell_type": "code",
   "execution_count": 78,
   "metadata": {},
   "outputs": [
    {
     "name": "stdout",
     "output_type": "stream",
     "text": [
      "+--------------+---------+\n",
      "|Violation_Code|Frequency|\n",
      "+--------------+---------+\n",
      "|            14|    18689|\n",
      "|            46|    10945|\n",
      "|            20|    10393|\n",
      "+--------------+---------+\n",
      "only showing top 3 rows\n",
      "\n"
     ]
    }
   ],
   "source": [
    "# Violations in Summer season\n",
    "violations_in_summer = spark.sql(\"select Violation_Code, count(*) as Frequency from Seasons_table where Issuer_Precinct in (19, 14, 1) and season = 'summer' group by Violation_Code order by Frequency desc\" )\n",
    "violations_in_summer.show(3)"
   ]
  },
  {
   "cell_type": "code",
   "execution_count": 79,
   "metadata": {},
   "outputs": [
    {
     "name": "stdout",
     "output_type": "stream",
     "text": [
      "+--------------+---------+\n",
      "|Violation_Code|Frequency|\n",
      "+--------------+---------+\n",
      "|            46|       15|\n",
      "|            14|        9|\n",
      "|             9|        3|\n",
      "+--------------+---------+\n",
      "only showing top 3 rows\n",
      "\n"
     ]
    }
   ],
   "source": [
    "# Violations in Autumn season\n",
    "violations_in_autumn = spark.sql(\"select Violation_Code, count(*) as Frequency from Seasons_table where Issuer_Precinct in (19, 14, 1) and season = 'autumn' group by Violation_Code order by Frequency desc\" )\n",
    "violations_in_autumn.show(3)"
   ]
  },
  {
   "cell_type": "markdown",
   "metadata": {},
   "source": [
    "#### Q7. The fines collected from all the instances of parking violation constitute a source of revenue for the NYC Police Department. Let’s take an example of estimating this for the three most commonly occurring codes:"
   ]
  },
  {
   "cell_type": "markdown",
   "metadata": {},
   "source": [
    "##### 1) Find total occurrences of the three most common violation codes"
   ]
  },
  {
   "cell_type": "code",
   "execution_count": 80,
   "metadata": {},
   "outputs": [
    {
     "name": "stdout",
     "output_type": "stream",
     "text": [
      "+--------------+---------+\n",
      "|Violation_Code|Frequency|\n",
      "+--------------+---------+\n",
      "|            21|   767740|\n",
      "|            36|   662765|\n",
      "|            38|   541526|\n",
      "+--------------+---------+\n",
      "only showing top 3 rows\n",
      "\n"
     ]
    }
   ],
   "source": [
    "common_Violation_codes = spark.sql(\"select Violation_Code, count(*) as Frequency from parking_bhs_2017 group by Violation_Code order by Frequency desc\")\n",
    "common_Violation_codes.show(3)"
   ]
  },
  {
   "cell_type": "markdown",
   "metadata": {},
   "source": [
    "##### 2) Using this information, find the total amount collected for the three violation codes with maximum tickets. State the code which has the highest total collection."
   ]
  },
  {
   "cell_type": "code",
   "execution_count": 81,
   "metadata": {},
   "outputs": [
    {
     "name": "stdout",
     "output_type": "stream",
     "text": [
      "+--------------+---------+--------+\n",
      "|Violation_Code|Frequency|    fine|\n",
      "+--------------+---------+--------+\n",
      "|            21|   767740|42225700|\n",
      "|            36|   662765|33138250|\n",
      "|            38|   541526|27076300|\n",
      "+--------------+---------+--------+\n",
      "only showing top 3 rows\n",
      "\n",
      "Total collection =  102440250\n"
     ]
    }
   ],
   "source": [
    "from pyspark.sql.functions import when\n",
    "\n",
    "common_Violation_fine=common_Violation_codes.withColumn(\"fine\",when(common_Violation_codes.Violation_Code == 21, (common_Violation_codes.Frequency) *55).otherwise((common_Violation_codes.Frequency)*50))\n",
    "common_Violation_fine.show(3)\n",
    "print('Total collection = ',767740*55+662765*50+541526*50)"
   ]
  },
  {
   "cell_type": "markdown",
   "metadata": {},
   "source": [
    "##### 3) What can you intuitively infer from these findings?\n",
    "- From the above analysis, it is found that January to June had the major violation & July  to December has a siginificant drop.\n",
    "- Highest violations and collection was by \"Code-21\" (No parking where parking is not allowed by sign, street marking or traffic control device.)\n",
    "- The Plate_ID with BLANKPLATE records were not considered."
   ]
  },
  {
   "cell_type": "markdown",
   "metadata": {},
   "source": [
    "##### Finally stop the spark session"
   ]
  },
  {
   "cell_type": "code",
   "execution_count": 82,
   "metadata": {},
   "outputs": [],
   "source": [
    "spark.stop()"
   ]
  },
  {
   "cell_type": "code",
   "execution_count": null,
   "metadata": {},
   "outputs": [],
   "source": []
  }
 ],
 "metadata": {
  "kernelspec": {
   "display_name": "PySpark",
   "language": "python",
   "name": "pyspark"
  },
  "language_info": {
   "codemirror_mode": {
    "name": "ipython",
    "version": 3
   },
   "file_extension": ".py",
   "mimetype": "text/x-python",
   "name": "python",
   "nbconvert_exporter": "python",
   "pygments_lexer": "ipython3",
   "version": "3.6.5"
  }
 },
 "nbformat": 4,
 "nbformat_minor": 2
}
